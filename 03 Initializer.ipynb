{
 "cells": [
  {
   "cell_type": "markdown",
   "metadata": {},
   "source": [
    "# 03 Initializer\n",
    "## 맨 땅에 이니셜라이저 코드"
   ]
  },
  {
   "cell_type": "code",
   "execution_count": 32,
   "metadata": {},
   "outputs": [
    {
     "name": "stdout",
     "output_type": "stream",
     "text": [
      "[[7. 7. 7. 7. 7.]\n",
      " [7. 7. 7. 7. 7.]\n",
      " [7. 7. 7. 7. 7.]]\n",
      "<tf.Variable 'w:0' shape=(3, 5) dtype=float32_ref>\n"
     ]
    }
   ],
   "source": [
    "import tensorflow as tf\n",
    "tf.reset_default_graph()\n",
    "\n",
    "#아래 중 한가지 골라서 시작하면 되는데, 그에 따라 밑에 코드들의 결과값도 다르게 나올 것.\n",
    "#특정 constant로 시작. 0이나 1을 집어넣어도 되지만, 밑의 코드들을 이용해도 된다!\n",
    "init_w = tf.keras.initializers.constant(7.0) #tensor에서는 안 잡힙니다.\n",
    "#1로 시작\n",
    "#init_w = tf.keras.initializers.ones\n",
    "#0으로 시작\n",
    "#init_w = tf.keras.initializers.zeros\n",
    "#identity matrix로 시작. identity는 조금 복잡하게 만든다!\n",
    "#init_w = tf.keras.initializers.identity\n",
    "\n",
    "\n",
    "w = tf.get_variable('w', (3, 5), dtype=tf.float32, initializer=init_w) #(3, 5)는 shape\n",
    "\n",
    "init = tf.global_variables_initializer() #session 밖에서 정의. 이 initializer와 밑의 sess.run이 필요.\n",
    "    \n",
    "with tf.Session() as sess:\n",
    "    sess.run(init) #이게 없어도 에러 뜸\n",
    "    w_run = sess.run(w)\n",
    "print(w_run)\n",
    "print(w)"
   ]
  },
  {
   "cell_type": "code",
   "execution_count": 33,
   "metadata": {},
   "outputs": [
    {
     "name": "stdout",
     "output_type": "stream",
     "text": [
      "w/Initializer/Const\n",
      "w\n",
      "w/Assign\n",
      "w/read\n",
      "init\n"
     ]
    }
   ],
   "source": [
    "g = tf.get_default_graph()\n",
    "ops = g.get_operations()\n",
    "for op in ops :\n",
    "    print(op.name)"
   ]
  },
  {
   "cell_type": "code",
   "execution_count": 34,
   "metadata": {},
   "outputs": [
    {
     "name": "stdout",
     "output_type": "stream",
     "text": [
      "Tensor(\"w/Initializer/Const:0\", shape=(3, 5), dtype=float32)\n",
      "Tensor(\"w:0\", shape=(3, 5), dtype=float32_ref)\n",
      "Tensor(\"w/Assign:0\", shape=(3, 5), dtype=float32_ref)\n",
      "Tensor(\"w/read:0\", shape=(3, 5), dtype=float32)\n"
     ]
    }
   ],
   "source": [
    "for op in ops :\n",
    "    for tensor in op.outputs :\n",
    "        print(tensor)"
   ]
  },
  {
   "cell_type": "markdown",
   "metadata": {},
   "source": [
    "## initializer code"
   ]
  },
  {
   "cell_type": "code",
   "execution_count": 35,
   "metadata": {},
   "outputs": [
    {
     "name": "stdout",
     "output_type": "stream",
     "text": [
      "<tf.Variable 'w:0' shape=(100, 100) dtype=float32_ref>\n",
      "<class 'numpy.ndarray'>\n",
      "(100, 100)\n",
      "float32\n"
     ]
    },
    {
     "data": {
      "image/png": "[encoded data removed]",
      "text/plain": [
       "<Figure size 432x288 with 1 Axes>"
      ]
     },
     "metadata": {
      "needs_background": "light"
     },
     "output_type": "display_data"
    },
    {
     "name": "stdout",
     "output_type": "stream",
     "text": [
      "0.4998497 0.28825888\n"
     ]
    }
   ],
   "source": [
    "%matplotlib inline \n",
    "#python에서는 빼줘야 함. jupyther에 특화된 것. object print 방지.\n",
    "\n",
    "import tensorflow as tf; tf.reset_default_graph()\n",
    "import matplotlib.pyplot as plt\n",
    "import numpy as np #reshape을 위해 필요\n",
    "\n",
    "#Random Normal. default는 mean=0, std=0.05. seed 고정하면 같은 변수들로 돌리게 됨.\n",
    "#init_w = tf.keras.initializers.RandomNormal(mean=0, stddev=1, seed=3) \n",
    "#Truncated Normal. 분포를 자름(truncation).\n",
    "#init_w = tf.keras.initializers.TruncatedNormal() # mean=0, (before_truncation_)std=0.05\n",
    "#Random Uniform\n",
    "init_w = tf.keras.initializers.RandomUniform(minval=0., maxval=1.) # minval=-0.05, maxval=0.05\n",
    "w = tf.get_variable('w', (100,100), tf.float32, init_w)\n",
    "\n",
    "init = tf.global_variables_initializer()\n",
    "\n",
    "with tf.Session() as sess:\n",
    "    sess.run(init)\n",
    "    print(w) #w자체가 tensor라서 tensor가 print \n",
    "    w_run = sess.run(w)\n",
    "    print(type(w_run)) #(100, 100)이니까 너무 커서 일단 type이나 shape 등만 print\n",
    "    print(w_run.shape) \n",
    "    print(w_run.dtype)\n",
    "    \n",
    "plt.hist(w_run.reshape((-1,)), bins=100, density=True)\n",
    "plt.show()\n",
    "print(w_run.reshape((-1,)).mean(), w_run.reshape((-1,)).std())"
   ]
  },
  {
   "cell_type": "code",
   "execution_count": 26,
   "metadata": {},
   "outputs": [
    {
     "name": "stdout",
     "output_type": "stream",
     "text": [
      "Tensor(\"w/Initializer/Const:0\", shape=(3, 5), dtype=float32)\n",
      "Tensor(\"w:0\", shape=(3, 5), dtype=float32_ref)\n",
      "Tensor(\"w/Assign:0\", shape=(3, 5), dtype=float32_ref)\n",
      "Tensor(\"w/read:0\", shape=(3, 5), dtype=float32)\n"
     ]
    }
   ],
   "source": [
    "for op in ops :\n",
    "    for tensor in op.outputs :\n",
    "        print(tensor)"
   ]
  },
  {
   "cell_type": "code",
   "execution_count": 27,
   "metadata": {},
   "outputs": [
    {
     "name": "stdout",
     "output_type": "stream",
     "text": [
      "[[-0.08808136 -0.13145593  0.62632406  0.49630162 -0.57996875]\n",
      " [ 0.00628205  0.49005553  0.04692848 -0.6300631  -0.60052013]\n",
      " [ 0.38919994  0.17652452 -0.65625834  0.47490966 -0.40143275]]\n",
      "(3, 5)\n"
     ]
    }
   ],
   "source": [
    "%matplotlib inline\n",
    "import tensorflow as tf; tf.reset_default_graph()\n",
    "import numpy as np\n",
    "import matplotlib.pyplot as plt\n",
    "\n",
    "#Orthogonal. 따로 Seed 설정하지 않으면 숫자는 계속 바뀜\n",
    "init_w = tf.keras.initializers.Orthogonal()\n",
    "w = tf.get_variable('w', (3,5), dtype=tf.float32, initializer=init_w)\n",
    "\n",
    "init = tf.global_variables_initializer()\n",
    "\n",
    "with tf.Session() as sess:\n",
    "    sess.run(init)\n",
    "    w_run = sess.run(w)\n",
    "    \n",
    "print(w_run)\n",
    "print(w_run.shape)"
   ]
  },
  {
   "cell_type": "code",
   "execution_count": 28,
   "metadata": {},
   "outputs": [
    {
     "name": "stdout",
     "output_type": "stream",
     "text": [
      "0.9999999\n",
      "2.9802322e-08\n",
      "5.9604645e-08\n",
      "2.9802322e-08\n",
      "1.0000001\n",
      "2.9802322e-08\n",
      "5.9604645e-08\n",
      "2.9802322e-08\n",
      "1.0\n"
     ]
    }
   ],
   "source": [
    "for i in range(3):\n",
    "    for j in range(3):\n",
    "        print(np.abs(np.sum(w_run[i]*w_run[j])))"
   ]
  },
  {
   "cell_type": "code",
   "execution_count": 29,
   "metadata": {},
   "outputs": [
    {
     "name": "stdout",
     "output_type": "stream",
     "text": [
      "3.000000238418579\n"
     ]
    }
   ],
   "source": [
    "total_sum = 0\n",
    "for i in range(3):\n",
    "    for j in range(3):\n",
    "        total_sum += np.abs(np.sum(w_run[i]*w_run[j]))\n",
    "print(total_sum)"
   ]
  },
  {
   "cell_type": "code",
   "execution_count": 48,
   "metadata": {},
   "outputs": [
    {
     "name": "stdout",
     "output_type": "stream",
     "text": [
      "3.0000006295740604\n"
     ]
    }
   ],
   "source": [
    "#(5, 3)라면?\n",
    "tf.reset_default_graph()\n",
    "\n",
    "init_w = tf.keras.initializers.Orthogonal()\n",
    "w = tf.get_variable('w', (5, 3), dtype=tf.float32, initializer=init_w)\n",
    "\n",
    "init = tf.global_variables_initializer()\n",
    "\n",
    "with tf.Session() as sess:\n",
    "    sess.run(init)\n",
    "    w_run = sess.run(w)\n",
    "            \n",
    "total_sum = 0\n",
    "for i in range(3):\n",
    "    for j in range(3):\n",
    "        total_sum += np.abs(np.sum(w_run[: , i]*w_run[: , j]))\n",
    "print(total_sum)"
   ]
  },
  {
   "cell_type": "markdown",
   "metadata": {},
   "source": [
    "## Xavier Initializers"
   ]
  },
  {
   "cell_type": "code",
   "execution_count": 52,
   "metadata": {},
   "outputs": [
    {
     "data": {
      "image/png": "[encoded data removed]",
      "text/plain": [
       "<Figure size 432x288 with 1 Axes>"
      ]
     },
     "metadata": {
      "needs_background": "light"
     },
     "output_type": "display_data"
    },
    {
     "name": "stdout",
     "output_type": "stream",
     "text": [
      "-0.000324577 0.10028527\n",
      "0.17320508075688773\n"
     ]
    }
   ],
   "source": [
    "%matplotlib inline\n",
    "import tensorflow as tf\n",
    "import numpy as np\n",
    "import matplotlib.pyplot as plt\n",
    "tf.reset_default_graph()\n",
    "\n",
    "#glorot_normal\n",
    "#init_w = tf.keras.initializers.glorot_normal()\n",
    "#glorot_uniform\n",
    "init_w = tf.keras.initializers.glorot_uniform()\n",
    "w = tf.get_variable('w', (100,100), dtype=tf.float32, initializer=init_w)\n",
    "\n",
    "init = tf.global_variables_initializer()\n",
    "\n",
    "with tf.Session() as sess:\n",
    "    sess.run(init)\n",
    "    w_run = sess.run(w)\n",
    "    \n",
    "plt.hist(w_run.reshape((-1,)), bins=100, density=True)\n",
    "plt.show()\n",
    "print(w_run.reshape((-1,)).mean(), w_run.reshape((-1,)).std())\n",
    "print(np.sqrt(3/((100+100)/2)))"
   ]
  },
  {
   "cell_type": "markdown",
   "metadata": {},
   "source": [
    "## He Initializers"
   ]
  },
  {
   "cell_type": "code",
   "execution_count": 53,
   "metadata": {},
   "outputs": [
    {
     "data": {
      "image/png": "[encoded data removed]",
      "text/plain": [
       "<Figure size 432x288 with 1 Axes>"
      ]
     },
     "metadata": {
      "needs_background": "light"
     },
     "output_type": "display_data"
    },
    {
     "name": "stdout",
     "output_type": "stream",
     "text": [
      "-0.00093557703 0.14191523\n",
      "0.1414213562373095\n"
     ]
    }
   ],
   "source": [
    "%matplotlib inline\n",
    "import tensorflow as tf\n",
    "import numpy as np\n",
    "import matplotlib.pyplot as plt\n",
    "tf.reset_default_graph()\n",
    "tf.set_random_seed(0)\n",
    "np.random.seed(0)\n",
    "init = tf.keras.initializers.he_normal()\n",
    "w = tf.get_variable('w', (100,100), dtype=tf.float32, initializer=init)\n",
    "with tf.Session() as sess:\n",
    "    tf.global_variables_initializer().run()\n",
    "    w_run = sess.run(w)\n",
    "plt.hist(w_run.reshape((-1,)), bins=100, density=True)\n",
    "plt.show()\n",
    "print(w_run.reshape((-1,)).mean(), w_run.reshape((-1,)).std())\n",
    "print(np.sqrt(2/100))"
   ]
  },
  {
   "cell_type": "markdown",
   "metadata": {},
   "source": [
    "## VarianceScaling Initializers"
   ]
  },
  {
   "cell_type": "code",
   "execution_count": 57,
   "metadata": {},
   "outputs": [
    {
     "data": {
      "image/png": "[encoded data removed]",
      "text/plain": [
       "<Figure size 432x288 with 1 Axes>"
      ]
     },
     "metadata": {
      "needs_background": "light"
     },
     "output_type": "display_data"
    }
   ],
   "source": [
    "%matplotlib inline\n",
    "import tensorflow as tf ; tf.reset_default_graph()\n",
    "import numpy as np\n",
    "import matplotlib.pyplot as plt\n",
    "\n",
    "#default는 truncated normal\n",
    "#init_w = tf.keras.initializers.VarianceScaling()\n",
    "#잘리지 않은 그냥 normal로 하려면\n",
    "#init_w = tf.keras.initializers.VarianceScaling(distribution = 'untruncated_normal')\n",
    "w = tf.get_variable('w', (100,100), dtype=tf.float32, initializer=init_w)\n",
    "\n",
    "init = tf.global_variables_initializer()\n",
    "\n",
    "with tf.Session() as sess:\n",
    "    sess.run(init)\n",
    "    w_run = sess.run(w)\n",
    "\n",
    "plt.hist(w_run.reshape((-1,)), bins=100, density=True)\n",
    "plt.show()"
   ]
  },
  {
   "cell_type": "code",
   "execution_count": 58,
   "metadata": {},
   "outputs": [
    {
     "name": "stdout",
     "output_type": "stream",
     "text": [
      "Tensor(\"w/Initializer/Const:0\", shape=(3, 5), dtype=float32)\n",
      "Tensor(\"w:0\", shape=(3, 5), dtype=float32_ref)\n",
      "Tensor(\"w/Assign:0\", shape=(3, 5), dtype=float32_ref)\n",
      "Tensor(\"w/read:0\", shape=(3, 5), dtype=float32)\n"
     ]
    }
   ],
   "source": [
    "for op in ops :\n",
    "    for tensor in op.outputs :\n",
    "        print(tensor)"
   ]
  },
  {
   "cell_type": "markdown",
   "metadata": {},
   "source": [
    "## tf.layers module"
   ]
  },
  {
   "cell_type": "code",
   "execution_count": 60,
   "metadata": {},
   "outputs": [],
   "source": [
    "import tensorflow as tf\n",
    "import numpy as np\n",
    "\n",
    "#internet에서 MNIST data download. tuple 형식으로 받아야 함.\n",
    "(x_train, y_train), (x_test, y_test) = tf.keras.datasets.mnist.load_data()"
   ]
  },
  {
   "cell_type": "code",
   "execution_count": 61,
   "metadata": {},
   "outputs": [
    {
     "name": "stdout",
     "output_type": "stream",
     "text": [
      "(60000, 28, 28) (60000,) (10000, 28, 28) (10000,)\n"
     ]
    }
   ],
   "source": [
    "print(x_train.shape, y_train.shape, x_test.shape, y_test.shape)"
   ]
  },
  {
   "cell_type": "code",
   "execution_count": 65,
   "metadata": {},
   "outputs": [
    {
     "name": "stdout",
     "output_type": "stream",
     "text": [
      "uint8 uint8 uint8 uint8\n"
     ]
    }
   ],
   "source": [
    "print(x_train.dtype, y_train.dtype, x_test.dtype, y_test.dtype) #unsigned int?"
   ]
  },
  {
   "cell_type": "code",
   "execution_count": 66,
   "metadata": {},
   "outputs": [
    {
     "name": "stdout",
     "output_type": "stream",
     "text": [
      "0 255\n"
     ]
    }
   ],
   "source": [
    "print(np.min(x_train), np.max(x_train))"
   ]
  },
  {
   "cell_type": "code",
   "execution_count": 67,
   "metadata": {},
   "outputs": [
    {
     "data": {
      "image/png": "[encoded data removed]",
      "text/plain": [
       "<Figure size 432x288 with 1 Axes>"
      ]
     },
     "metadata": {
      "needs_background": "light"
     },
     "output_type": "display_data"
    },
    {
     "data": {
      "image/png": "[encoded data removed]",
      "text/plain": [
       "<Figure size 432x288 with 1 Axes>"
      ]
     },
     "metadata": {
      "needs_background": "light"
     },
     "output_type": "display_data"
    }
   ],
   "source": [
    "%matplotlib inline\n",
    "import matplotlib.pyplot as plt\n",
    "for i in range(2) :\n",
    "    plt.imshow(x_train[i], cmap='gray') #image show\n",
    "    plt.axis('off')\n",
    "    plt.show()"
   ]
  },
  {
   "cell_type": "code",
   "execution_count": 68,
   "metadata": {},
   "outputs": [],
   "source": [
    "#normalize\n",
    "x_train = x_train.astype(np.float32).reshape(-1, 28*28) / 255.0\n",
    "x_test = x_test.astype(np.float32).reshape(-1, 28*28) / 255.0\n",
    "y_train = y_train.astype(np.int32)\n",
    "y_test = y_test.astype(np.int32)\n",
    "x_valid, x_train = x_train[:5000], x_train[5000:]\n",
    "y_valid, y_train = y_train[:5000], y_train[5000:]"
   ]
  },
  {
   "cell_type": "code",
   "execution_count": 74,
   "metadata": {},
   "outputs": [],
   "source": [
    "import tensorflow as tf\n",
    "import numpy as np\n",
    "tf.reset_default_graph()\n",
    "tf.set_random_seed(0)\n",
    "np.random.seed(0)"
   ]
  },
  {
   "cell_type": "code",
   "execution_count": 75,
   "metadata": {},
   "outputs": [],
   "source": [
    "lr = 0.01\n",
    "epoch = 20\n",
    "batch_size = 200\n",
    "threshold = 1.0"
   ]
  },
  {
   "cell_type": "code",
   "execution_count": 76,
   "metadata": {},
   "outputs": [
    {
     "name": "stdout",
     "output_type": "stream",
     "text": [
      "WARNING:tensorflow:Entity <bound method Dense.call of <tensorflow.python.layers.core.Dense object at 0x000002C51DB02CC0>> could not be transformed and will be executed as-is. Please report this to the AutgoGraph team. When filing the bug, set the verbosity to 10 (on Linux, `export AUTOGRAPH_VERBOSITY=10`) and attach the full output. Cause: converting <bound method Dense.call of <tensorflow.python.layers.core.Dense object at 0x000002C51DB02CC0>>: AssertionError: Bad argument number for Name: 3, expecting 4\n",
      "WARNING: Entity <bound method Dense.call of <tensorflow.python.layers.core.Dense object at 0x000002C51DB02CC0>> could not be transformed and will be executed as-is. Please report this to the AutgoGraph team. When filing the bug, set the verbosity to 10 (on Linux, `export AUTOGRAPH_VERBOSITY=10`) and attach the full output. Cause: converting <bound method Dense.call of <tensorflow.python.layers.core.Dense object at 0x000002C51DB02CC0>>: AssertionError: Bad argument number for Name: 3, expecting 4\n",
      "WARNING:tensorflow:Entity <bound method Dense.call of <tensorflow.python.layers.core.Dense object at 0x000002C51E0B0EF0>> could not be transformed and will be executed as-is. Please report this to the AutgoGraph team. When filing the bug, set the verbosity to 10 (on Linux, `export AUTOGRAPH_VERBOSITY=10`) and attach the full output. Cause: converting <bound method Dense.call of <tensorflow.python.layers.core.Dense object at 0x000002C51E0B0EF0>>: AssertionError: Bad argument number for Name: 3, expecting 4\n",
      "WARNING: Entity <bound method Dense.call of <tensorflow.python.layers.core.Dense object at 0x000002C51E0B0EF0>> could not be transformed and will be executed as-is. Please report this to the AutgoGraph team. When filing the bug, set the verbosity to 10 (on Linux, `export AUTOGRAPH_VERBOSITY=10`) and attach the full output. Cause: converting <bound method Dense.call of <tensorflow.python.layers.core.Dense object at 0x000002C51E0B0EF0>>: AssertionError: Bad argument number for Name: 3, expecting 4\n"
     ]
    }
   ],
   "source": [
    "n_inputs = 28 * 28  # MNIST\n",
    "n_hidden1 = 300\n",
    "n_outputs = 10\n",
    "\n",
    "x = tf.placeholder(tf.float32, shape=(None, n_inputs), name=\"x\")\n",
    "y = tf.placeholder(tf.int32, shape=(None), name=\"y\")\n",
    "\n",
    "hidden1 = tf.layers.dense(x, n_hidden1, activation=tf.nn.relu, name=\"hidden1\")\n",
    "logits = tf.layers.dense(hidden1, n_outputs, name=\"outputs\")"
   ]
  },
  {
   "cell_type": "code",
   "execution_count": 77,
   "metadata": {},
   "outputs": [
    {
     "name": "stdout",
     "output_type": "stream",
     "text": [
      "Tensor(\"x:0\", shape=(?, 784), dtype=float32)\n",
      "Tensor(\"y:0\", dtype=int32)\n",
      "Tensor(\"hidden1/kernel/Initializer/random_uniform/shape:0\", shape=(2,), dtype=int32)\n",
      "Tensor(\"hidden1/kernel/Initializer/random_uniform/min:0\", shape=(), dtype=float32)\n",
      "Tensor(\"hidden1/kernel/Initializer/random_uniform/max:0\", shape=(), dtype=float32)\n",
      "Tensor(\"hidden1/kernel/Initializer/random_uniform/RandomUniform:0\", shape=(784, 300), dtype=float32)\n",
      "Tensor(\"hidden1/kernel/Initializer/random_uniform/sub:0\", shape=(), dtype=float32)\n",
      "Tensor(\"hidden1/kernel/Initializer/random_uniform/mul:0\", shape=(784, 300), dtype=float32)\n",
      "Tensor(\"hidden1/kernel/Initializer/random_uniform:0\", shape=(784, 300), dtype=float32)\n",
      "Tensor(\"hidden1/kernel:0\", shape=(784, 300), dtype=float32_ref)\n",
      "Tensor(\"hidden1/kernel/Assign:0\", shape=(784, 300), dtype=float32_ref)\n",
      "Tensor(\"hidden1/kernel/read:0\", shape=(784, 300), dtype=float32)\n",
      "Tensor(\"hidden1/bias/Initializer/zeros:0\", shape=(300,), dtype=float32)\n",
      "Tensor(\"hidden1/bias:0\", shape=(300,), dtype=float32_ref)\n",
      "Tensor(\"hidden1/bias/Assign:0\", shape=(300,), dtype=float32_ref)\n",
      "Tensor(\"hidden1/bias/read:0\", shape=(300,), dtype=float32)\n",
      "Tensor(\"hidden1/MatMul:0\", shape=(?, 300), dtype=float32)\n",
      "Tensor(\"hidden1/BiasAdd:0\", shape=(?, 300), dtype=float32)\n",
      "Tensor(\"hidden1/Relu:0\", shape=(?, 300), dtype=float32)\n",
      "Tensor(\"outputs/kernel/Initializer/random_uniform/shape:0\", shape=(2,), dtype=int32)\n",
      "Tensor(\"outputs/kernel/Initializer/random_uniform/min:0\", shape=(), dtype=float32)\n",
      "Tensor(\"outputs/kernel/Initializer/random_uniform/max:0\", shape=(), dtype=float32)\n",
      "Tensor(\"outputs/kernel/Initializer/random_uniform/RandomUniform:0\", shape=(300, 10), dtype=float32)\n",
      "Tensor(\"outputs/kernel/Initializer/random_uniform/sub:0\", shape=(), dtype=float32)\n",
      "Tensor(\"outputs/kernel/Initializer/random_uniform/mul:0\", shape=(300, 10), dtype=float32)\n",
      "Tensor(\"outputs/kernel/Initializer/random_uniform:0\", shape=(300, 10), dtype=float32)\n",
      "Tensor(\"outputs/kernel:0\", shape=(300, 10), dtype=float32_ref)\n",
      "Tensor(\"outputs/kernel/Assign:0\", shape=(300, 10), dtype=float32_ref)\n",
      "Tensor(\"outputs/kernel/read:0\", shape=(300, 10), dtype=float32)\n",
      "Tensor(\"outputs/bias/Initializer/zeros:0\", shape=(10,), dtype=float32)\n",
      "Tensor(\"outputs/bias:0\", shape=(10,), dtype=float32_ref)\n",
      "Tensor(\"outputs/bias/Assign:0\", shape=(10,), dtype=float32_ref)\n",
      "Tensor(\"outputs/bias/read:0\", shape=(10,), dtype=float32)\n",
      "Tensor(\"outputs/MatMul:0\", shape=(?, 10), dtype=float32)\n",
      "Tensor(\"outputs/BiasAdd:0\", shape=(?, 10), dtype=float32)\n"
     ]
    }
   ],
   "source": [
    "g = tf.get_default_graph()\n",
    "ops = g.get_operations()\n",
    "\n",
    "for op in ops :\n",
    "    for tensor in op.outputs :\n",
    "        print(tensor)\n",
    "        \n",
    "#결과값의 kernel은 weight에 해당.\n",
    "#output은 activation(relu 같은 것)을 따로 지정하지 않아서 default로 아무것도 작용되지 않음."
   ]
  },
  {
   "cell_type": "markdown",
   "metadata": {},
   "source": [
    "## tf.assign\n",
    "### 특정한 값을 initializer로 지정"
   ]
  },
  {
   "cell_type": "code",
   "execution_count": 78,
   "metadata": {},
   "outputs": [],
   "source": [
    "import tensorflow as tf\n",
    "import numpy as np\n",
    "tf.reset_default_graph()"
   ]
  },
  {
   "cell_type": "code",
   "execution_count": 79,
   "metadata": {},
   "outputs": [],
   "source": [
    "n_inputs = 2\n",
    "n_hidden1 = 3"
   ]
  },
  {
   "cell_type": "code",
   "execution_count": 81,
   "metadata": {},
   "outputs": [],
   "source": [
    "#그냥 tuple이든 numpy array든 상관 없음.\n",
    "original_w = np.array([[1., 2., 3.], [4., 5., 6.]]) # Load the weights from the other framework\n",
    "original_b = np.array([7., 8., 9.])                 # Load the biases from the other framework"
   ]
  },
  {
   "cell_type": "code",
   "execution_count": 82,
   "metadata": {},
   "outputs": [
    {
     "name": "stdout",
     "output_type": "stream",
     "text": [
      "WARNING:tensorflow:Entity <bound method Dense.call of <tensorflow.python.layers.core.Dense object at 0x000002C51DB2D2E8>> could not be transformed and will be executed as-is. Please report this to the AutgoGraph team. When filing the bug, set the verbosity to 10 (on Linux, `export AUTOGRAPH_VERBOSITY=10`) and attach the full output. Cause: converting <bound method Dense.call of <tensorflow.python.layers.core.Dense object at 0x000002C51DB2D2E8>>: AssertionError: Bad argument number for Name: 3, expecting 4\n",
      "WARNING: Entity <bound method Dense.call of <tensorflow.python.layers.core.Dense object at 0x000002C51DB2D2E8>> could not be transformed and will be executed as-is. Please report this to the AutgoGraph team. When filing the bug, set the verbosity to 10 (on Linux, `export AUTOGRAPH_VERBOSITY=10`) and attach the full output. Cause: converting <bound method Dense.call of <tensorflow.python.layers.core.Dense object at 0x000002C51DB2D2E8>>: AssertionError: Bad argument number for Name: 3, expecting 4\n"
     ]
    }
   ],
   "source": [
    "x = tf.placeholder(tf.float32, shape=(None, n_inputs), name=\"x\")\n",
    "hidden1 = tf.layers.dense(x, n_hidden1, name=\"hidden1\")"
   ]
  },
  {
   "cell_type": "code",
   "execution_count": 83,
   "metadata": {},
   "outputs": [
    {
     "name": "stdout",
     "output_type": "stream",
     "text": [
      "Tensor(\"x:0\", shape=(?, 2), dtype=float32)\n",
      "Tensor(\"hidden1/kernel/Initializer/random_uniform/shape:0\", shape=(2,), dtype=int32)\n",
      "Tensor(\"hidden1/kernel/Initializer/random_uniform/min:0\", shape=(), dtype=float32)\n",
      "Tensor(\"hidden1/kernel/Initializer/random_uniform/max:0\", shape=(), dtype=float32)\n",
      "Tensor(\"hidden1/kernel/Initializer/random_uniform/RandomUniform:0\", shape=(2, 3), dtype=float32)\n",
      "Tensor(\"hidden1/kernel/Initializer/random_uniform/sub:0\", shape=(), dtype=float32)\n",
      "Tensor(\"hidden1/kernel/Initializer/random_uniform/mul:0\", shape=(2, 3), dtype=float32)\n",
      "Tensor(\"hidden1/kernel/Initializer/random_uniform:0\", shape=(2, 3), dtype=float32)\n",
      "Tensor(\"hidden1/kernel:0\", shape=(2, 3), dtype=float32_ref)\n",
      "Tensor(\"hidden1/kernel/Assign:0\", shape=(2, 3), dtype=float32_ref)\n",
      "Tensor(\"hidden1/kernel/read:0\", shape=(2, 3), dtype=float32)\n",
      "Tensor(\"hidden1/bias/Initializer/zeros:0\", shape=(3,), dtype=float32)\n",
      "Tensor(\"hidden1/bias:0\", shape=(3,), dtype=float32_ref)\n",
      "Tensor(\"hidden1/bias/Assign:0\", shape=(3,), dtype=float32_ref)\n",
      "Tensor(\"hidden1/bias/read:0\", shape=(3,), dtype=float32)\n",
      "Tensor(\"hidden1/MatMul:0\", shape=(?, 3), dtype=float32)\n",
      "Tensor(\"hidden1/BiasAdd:0\", shape=(?, 3), dtype=float32)\n"
     ]
    }
   ],
   "source": [
    "g = tf.get_default_graph()\n",
    "ops = g.get_operations()\n",
    "\n",
    "for op in ops :\n",
    "    for tensor in op.outputs :\n",
    "        print(tensor)"
   ]
  },
  {
   "cell_type": "markdown",
   "metadata": {},
   "source": [
    "위에 나와있는 Assign:0 부분을 다른 것(우리가 지정하는 것)으로 바꿔주고 싶은 것!"
   ]
  },
  {
   "cell_type": "code",
   "execution_count": 84,
   "metadata": {},
   "outputs": [
    {
     "data": {
      "text/plain": [
       "[<tf.Variable 'hidden1/kernel:0' shape=(2, 3) dtype=float32_ref>,\n",
       " <tf.Variable 'hidden1/bias:0' shape=(3,) dtype=float32_ref>]"
      ]
     },
     "execution_count": 84,
     "metadata": {},
     "output_type": "execute_result"
    }
   ],
   "source": [
    "tf.get_collection('trainable_variables')"
   ]
  },
  {
   "cell_type": "code",
   "execution_count": 85,
   "metadata": {},
   "outputs": [],
   "source": [
    "g = tf.get_default_graph()\n",
    "\n",
    "#tensor 이름을 새로 지정\n",
    "w = g.get_tensor_by_name('hidden1/kernel:0')\n",
    "b = g.get_tensor_by_name('hidden1/bias:0')\n",
    "\n",
    "w_placeholder = tf.placeholder(tf.float32, shape=(n_inputs, n_hidden1))\n",
    "b_placeholder = tf.placeholder(tf.float32, shape=n_hidden1)\n",
    "\n",
    "#tf.assign(tensor, value) : tensor에 value를 assign\n",
    "assign_w = tf.assign(w, w_placeholder)\n",
    "assign_b = tf.assign(b, b_placeholder)\n",
    "\n",
    "#같이 보기\n",
    "original_w = np.array([[1., 2., 3.], [4., 5., 6.]])\n",
    "original_b = np.array([7., 8., 9.])                 "
   ]
  },
  {
   "cell_type": "code",
   "execution_count": 86,
   "metadata": {},
   "outputs": [],
   "source": [
    "init = tf.global_variables_initializer() "
   ]
  },
  {
   "cell_type": "code",
   "execution_count": 88,
   "metadata": {},
   "outputs": [
    {
     "name": "stdout",
     "output_type": "stream",
     "text": [
      "[array([[ 0.28660715,  0.60481167, -0.5636793 ],\n",
      "       [-0.97108173,  0.41022336,  1.0767782 ]], dtype=float32), array([0., 0., 0.], dtype=float32)]\n",
      "[array([[1., 2., 3.],\n",
      "       [4., 5., 6.]], dtype=float32), array([7., 8., 9.], dtype=float32)]\n"
     ]
    }
   ],
   "source": [
    "with tf.Session() as sess:\n",
    "    sess.run(init)\n",
    "    print(sess.run([w, b]))\n",
    "    feed_dict={w_placeholder: original_w, b_placeholder: original_b}\n",
    "    sess.run([assign_w, assign_b], feed_dict=feed_dict)\n",
    "    print(sess.run([w, b]))"
   ]
  },
  {
   "cell_type": "markdown",
   "metadata": {},
   "source": [
    "## get tensor by name"
   ]
  },
  {
   "cell_type": "code",
   "execution_count": 89,
   "metadata": {},
   "outputs": [],
   "source": [
    "g = tf.get_default_graph()\n",
    "w = g.get_tensor_by_name('hidden1/kernel:0')\n",
    "b = g.get_tensor_by_name('hidden1/bias:0')\n",
    "\n",
    "init_w = g.get_operation_by_name(\"hidden1/kernel/Assign\").inputs[1]\n",
    "init_b = g.get_operation_by_name(\"hidden1/bias/Assign\").inputs[1]"
   ]
  },
  {
   "cell_type": "code",
   "execution_count": 90,
   "metadata": {},
   "outputs": [],
   "source": [
    "init = tf.global_variables_initializer() "
   ]
  },
  {
   "cell_type": "code",
   "execution_count": 91,
   "metadata": {},
   "outputs": [
    {
     "name": "stdout",
     "output_type": "stream",
     "text": [
      "[array([[1., 2., 3.],\n",
      "       [4., 5., 6.]], dtype=float32), array([7., 8., 9.], dtype=float32)]\n"
     ]
    }
   ],
   "source": [
    "with tf.Session() as sess:\n",
    "    #sess.run(init)\n",
    "    feed_dict={w_placeholder: original_w, b_placeholder: original_b}\n",
    "    sess.run([assign_w, assign_b], feed_dict=feed_dict)\n",
    "    print(sess.run([w, b]))"
   ]
  },
  {
   "cell_type": "code",
   "execution_count": null,
   "metadata": {},
   "outputs": [],
   "source": []
  }
 ],
 "metadata": {
  "kernelspec": {
   "display_name": "Python 3",
   "language": "python",
   "name": "python3"
  },
  "language_info": {
   "codemirror_mode": {
    "name": "ipython",
    "version": 3
   },
   "file_extension": ".py",
   "mimetype": "text/x-python",
   "name": "python",
   "nbconvert_exporter": "python",
   "pygments_lexer": "ipython3",
   "version": "3.7.3"
  }
 },
 "nbformat": 4,
 "nbformat_minor": 2
}
