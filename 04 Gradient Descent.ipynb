{
 "cells": [
  {
   "cell_type": "markdown",
   "metadata": {},
   "source": [
    "# tf.gradient"
   ]
  },
  {
   "cell_type": "code",
   "execution_count": 1,
   "metadata": {},
   "outputs": [],
   "source": [
    "def f(x, y):\n",
    "    return x**2 + x*y + y**2"
   ]
  },
  {
   "cell_type": "code",
   "execution_count": 2,
   "metadata": {},
   "outputs": [],
   "source": [
    "def f_x(x, y):\n",
    "    return 2*x + y"
   ]
  },
  {
   "cell_type": "code",
   "execution_count": 3,
   "metadata": {},
   "outputs": [],
   "source": [
    "def f_y(x, y):\n",
    "    return x + 2*y"
   ]
  },
  {
   "cell_type": "code",
   "execution_count": 4,
   "metadata": {},
   "outputs": [
    {
     "name": "stdout",
     "output_type": "stream",
     "text": [
      "0.19\n",
      "0.7\n",
      "0.8\n"
     ]
    }
   ],
   "source": [
    "print(f(0.2, 0.3))\n",
    "print(f_x(0.2, 0.3))\n",
    "print(f_y(0.2, 0.3))"
   ]
  },
  {
   "cell_type": "code",
   "execution_count": 58,
   "metadata": {},
   "outputs": [],
   "source": [
    "import tensorflow as tf; tf.reset_default_graph()\n",
    "\n",
    "init_x = tf.keras.initializers.constant(0.2)\n",
    "init_y = tf.keras.initializers.constant(0.3)\n",
    "\n",
    "#float64로 하면 더 정확한 값이 나오지만, tf는 워낙 많은 값을 계산하다보니 32를 더 많이 씀.\n",
    "x = tf.get_variable('x', (), tf.float32, init_x)\n",
    "y = tf.get_variable('y', (), tf.float32, init_y)\n",
    "f = x**2 + x*y + y**2"
   ]
  },
  {
   "cell_type": "code",
   "execution_count": 12,
   "metadata": {},
   "outputs": [
    {
     "name": "stdout",
     "output_type": "stream",
     "text": [
      "[<tf.Tensor 'gradients/AddN:0' shape=() dtype=float32>, <tf.Tensor 'gradients/AddN_1:0' shape=() dtype=float32>]\n",
      "<class 'list'>\n"
     ]
    }
   ],
   "source": [
    "grads = tf.gradients(f, [x, y]) # list of tensors\n",
    "print(grads)\n",
    "print(type(grads)) # list"
   ]
  },
  {
   "cell_type": "code",
   "execution_count": 13,
   "metadata": {},
   "outputs": [
    {
     "name": "stdout",
     "output_type": "stream",
     "text": [
      "[0.19000001, 0.70000005, 0.8]\n"
     ]
    }
   ],
   "source": [
    "f_x = grads[0]\n",
    "f_y = grads[1]\n",
    "\n",
    "init = tf.global_variables_initializer()\n",
    "\n",
    "with tf.Session() as sess:\n",
    "    sess.run(init)\n",
    "    print(sess.run([f, f_x, f_y]))"
   ]
  },
  {
   "cell_type": "code",
   "execution_count": 14,
   "metadata": {},
   "outputs": [
    {
     "name": "stdout",
     "output_type": "stream",
     "text": [
      "<class 'sklearn.utils.Bunch'>\n",
      "['DESCR', 'data', 'feature_names', 'target']\n"
     ]
    }
   ],
   "source": [
    "from sklearn.datasets import fetch_california_housing\n",
    "housing = fetch_california_housing()\n",
    "print(type(housing))\n",
    "print(dir(housing))"
   ]
  },
  {
   "cell_type": "code",
   "execution_count": 16,
   "metadata": {},
   "outputs": [
    {
     "name": "stdout",
     "output_type": "stream",
     "text": [
      ".. _california_housing_dataset:\n",
      "\n",
      "California Housing dataset\n",
      "--------------------------\n",
      "\n",
      "**Data Set Characteristics:**\n",
      "\n",
      "    :Number of Instances: 20640\n",
      "\n",
      "    :Number of Attributes: 8 numeric, predictive attributes and the target\n",
      "\n",
      "    :Attribute Information:\n",
      "        - MedInc        median income in block\n",
      "        - HouseAge      median house age in block\n",
      "        - AveRooms      average number of rooms\n",
      "        - AveBedrms     average number of bedrooms\n",
      "        - Population    block population\n",
      "        - AveOccup      average house occupancy\n",
      "        - Latitude      house block latitude\n",
      "        - Longitude     house block longitude\n",
      "\n",
      "    :Missing Attribute Values: None\n",
      "\n",
      "This dataset was obtained from the StatLib repository.\n",
      "http://lib.stat.cmu.edu/datasets/\n",
      "\n",
      "The target variable is the median house value for California districts.\n",
      "\n",
      "This dataset was derived from the 1990 U.S. census, using one row per census\n",
      "block group. A block group is the smallest geographical unit for which the U.S.\n",
      "Census Bureau publishes sample data (a block group typically has a population\n",
      "of 600 to 3,000 people).\n",
      "\n",
      "It can be downloaded/loaded using the\n",
      ":func:`sklearn.datasets.fetch_california_housing` function.\n",
      "\n",
      ".. topic:: References\n",
      "\n",
      "    - Pace, R. Kelley and Ronald Barry, Sparse Spatial Autoregressions,\n",
      "      Statistics and Probability Letters, 33 (1997) 291-297\n",
      "\n"
     ]
    }
   ],
   "source": [
    "print(housing.DESCR)"
   ]
  },
  {
   "cell_type": "code",
   "execution_count": 17,
   "metadata": {},
   "outputs": [
    {
     "name": "stdout",
     "output_type": "stream",
     "text": [
      "['MedInc', 'HouseAge', 'AveRooms', 'AveBedrms', 'Population', 'AveOccup', 'Latitude', 'Longitude']\n"
     ]
    }
   ],
   "source": [
    "print(housing.feature_names)"
   ]
  },
  {
   "cell_type": "code",
   "execution_count": 19,
   "metadata": {},
   "outputs": [
    {
     "name": "stdout",
     "output_type": "stream",
     "text": [
      "(20640, 8) (20640,)\n"
     ]
    }
   ],
   "source": [
    "print(housing.data.shape, housing.target.shape)"
   ]
  },
  {
   "cell_type": "code",
   "execution_count": 21,
   "metadata": {},
   "outputs": [
    {
     "name": "stdout",
     "output_type": "stream",
     "text": [
      "(20640, 8) (20640,)\n"
     ]
    }
   ],
   "source": [
    "x_data = housing.data\n",
    "y_data = housing.target\n",
    "print(x_data.shape, y_data.shape)"
   ]
  },
  {
   "cell_type": "code",
   "execution_count": 22,
   "metadata": {},
   "outputs": [
    {
     "name": "stdout",
     "output_type": "stream",
     "text": [
      "(15000, 8) (15000,)\n",
      "(5640, 8) (5640,)\n"
     ]
    }
   ],
   "source": [
    "import numpy as np\n",
    "idx = np.arange(20640)\n",
    "np.random.shuffle(idx)\n",
    "\n",
    "#endpoint는 exclusive, startpoint는 inclusive\n",
    "x_train = housing.data[idx[:15000]] \n",
    "y_train = housing.target[idx[:15000]] \n",
    "x_test = housing.data[idx[15000:]] \n",
    "y_test = housing.target[idx[15000:]] \n",
    "\n",
    "print(x_train.shape, y_train.shape)\n",
    "print(x_test.shape, y_test.shape)"
   ]
  },
  {
   "cell_type": "code",
   "execution_count": 34,
   "metadata": {},
   "outputs": [
    {
     "name": "stdout",
     "output_type": "stream",
     "text": [
      "(1, 8) (1, 8)\n"
     ]
    }
   ],
   "source": [
    "#표준화? 정규화(normalize) 작업. \n",
    "#normalize를 해줌으로써 숫자도 예쁘게 나오고 돌리는 시간도 적게 걸림.\n",
    "#keepdims=FALSE 이면 dimension이 안 살아있음. (8, )이런 식으로 나옴\n",
    "#전체 set이 아니라 train set을 가지고 mu와 sigma를 계산\n",
    "mu = np.mean(x_train, axis=0, keepdims=True)\n",
    "sigma = np.std(x_train, axis=0, keepdims=True)\n",
    "print(mu.shape, sigma.shape)"
   ]
  },
  {
   "cell_type": "code",
   "execution_count": 35,
   "metadata": {},
   "outputs": [],
   "source": [
    "x_train = (x_train-mu)/sigma \n",
    "x_test = (x_test-mu)/sigma"
   ]
  },
  {
   "cell_type": "code",
   "execution_count": 37,
   "metadata": {},
   "outputs": [],
   "source": [
    "import tensorflow as tf\n",
    "import numpy as np\n",
    "tf.reset_default_graph()\n",
    "tf.set_random_seed(0)\n",
    "np.random.seed(0)"
   ]
  },
  {
   "cell_type": "code",
   "execution_count": 38,
   "metadata": {},
   "outputs": [],
   "source": [
    "epoch = int(1e3) #몇 번 돌릴 건지\n",
    "lr = 1e-2"
   ]
  },
  {
   "cell_type": "code",
   "execution_count": 40,
   "metadata": {},
   "outputs": [],
   "source": [
    "m, n = x_train.shape #(15000, 8)이므로 m=15000, n=8 \n",
    "design_matrix = np.concatenate([np.ones((m, 1)), x_train], axis=1)\n",
    "\n",
    "#design matrix 값을 갖는 tensor\n",
    "A = tf.constant(design_matrix, dtype=tf.float32, name=\"A\")\n",
    "x_train_tensor = tf.constant(x_train, dtype=tf.float32, name=\"x\")\n",
    "#뒤에서 y_train_pred는 (15000,1)로 나오는데 y_train_tensor는 (15000,)\n",
    "#이 둘의 계산은 broadcast rule 적용이 안 되므로 reshape을 해준다.\n",
    "y_train_tensor = tf.constant(y_train.reshape((-1, 1)), dtype=tf.float32, name=\"y\")\n",
    "AT = tf.transpose(A)"
   ]
  },
  {
   "cell_type": "code",
   "execution_count": 41,
   "metadata": {},
   "outputs": [],
   "source": [
    "init_theta = tf.keras.initializers.VarianceScaling(mode='fan_avg')\n",
    "\n",
    "#n이 필기에서 beta같은 것. 1을 더해준 것은 intercept term인 alpha같은 것.\n",
    "theta = tf.get_variable(\"theta\", [n + 1, 1], tf.float32, init_theta)\n",
    "theta_w = theta[1:,:] \n",
    "theta_b = theta[0,:]\n",
    "\n",
    "#predict 값\n",
    "y_train_pred = x_train_tensor@theta_w + theta_b"
   ]
  },
  {
   "cell_type": "code",
   "execution_count": 42,
   "metadata": {},
   "outputs": [],
   "source": [
    "error = y_train_pred - y_train_tensor #(15000, 1) rank 2\n",
    "\n",
    "#reduce : rank가 줄어든다는 소리. 이 경우 rank=0이 됨. keepdims같은 것이 있으면 유지됨.\n",
    "loss = tf.reduce_mean(tf.square(error), name=\"loss\")\n",
    "gradients = 2/m * (AT@error)\n",
    "train = tf.assign(theta, theta - lr * gradients)"
   ]
  },
  {
   "cell_type": "code",
   "execution_count": 44,
   "metadata": {},
   "outputs": [],
   "source": [
    "x = tf.placeholder(tf.float32, [None, 8])\n",
    "y_pred = x@theta_w + theta_b"
   ]
  },
  {
   "cell_type": "code",
   "execution_count": 45,
   "metadata": {},
   "outputs": [],
   "source": [
    "init = tf.global_variables_initializer()"
   ]
  },
  {
   "cell_type": "code",
   "execution_count": 47,
   "metadata": {},
   "outputs": [],
   "source": [
    "with tf.Session() as sess:\n",
    "    sess.run(init)\n",
    "    loss_trace = []\n",
    "    for _ in range(epoch):\n",
    "        loss_run, _ = sess.run([loss, train])\n",
    "        loss_trace.append(loss_run)\n",
    "    feed_dict = {x: x_test}\n",
    "    y_test_pred = sess.run(y_pred, feed_dict=feed_dict)"
   ]
  },
  {
   "cell_type": "code",
   "execution_count": 48,
   "metadata": {},
   "outputs": [
    {
     "data": {
      "image/png": "[encoded data removed]",
      "text/plain": [
       "<Figure size 432x288 with 1 Axes>"
      ]
     },
     "metadata": {
      "needs_background": "light"
     },
     "output_type": "display_data"
    }
   ],
   "source": [
    "#계산 결과(loss가 잘 떨어지는지)를 그림으로 표현\n",
    "%matplotlib inline\n",
    "import matplotlib.pyplot as plt\n",
    "plt.plot(loss_trace, 'o')\n",
    "plt.xlabel('gradient_step')\n",
    "plt.ylabel('loss')\n",
    "plt.show()"
   ]
  },
  {
   "cell_type": "code",
   "execution_count": 50,
   "metadata": {},
   "outputs": [
    {
     "data": {
      "image/png": "[encoded data removed]",
      "text/plain": [
       "<Figure size 432x288 with 1 Axes>"
      ]
     },
     "metadata": {
      "needs_background": "light"
     },
     "output_type": "display_data"
    }
   ],
   "source": [
    "import matplotlib.pyplot as plt\n",
    "plt.plot(y_test, y_test_pred, 'o')\n",
    "plt.xlabel('True Price')\n",
    "plt.ylabel('Pred Price')\n",
    "plt.title('California Housing Price')\n",
    "plt.show()"
   ]
  },
  {
   "cell_type": "markdown",
   "metadata": {},
   "source": [
    "집 값이 높은 건 prediction이 잘 안 되고\n",
    "\n",
    "실제 값에 비해 prediction이 낮은 것 같아!"
   ]
  },
  {
   "cell_type": "markdown",
   "metadata": {},
   "source": [
    "### 2교시"
   ]
  },
  {
   "cell_type": "code",
   "execution_count": null,
   "metadata": {},
   "outputs": [],
   "source": [
    "error = y_train_pred - y_train_tensor \n",
    "loss = tf.reduce_mean(tf.square(error), name=\"loss\")"
   ]
  },
  {
   "cell_type": "code",
   "execution_count": null,
   "metadata": {},
   "outputs": [],
   "source": [
    "#어떻게 해도 같은 결과가 나온다!\n",
    "#즉, 수학적인 formula를 몰라도 tensorflow를 이용하면 알아서 gradient를 계산해준다!!\n",
    "if 0:\n",
    "    # use mathematical formula\n",
    "    gradients = 2/m * (AT@error)\n",
    "    train = tf.assign(theta, theta - lr *gradient)\n",
    "elif 0:\n",
    "    # use tf.gradients \n",
    "    gradients = tf.gradients(loss, [theta])[0] \n",
    "    train = tf.assign(theta, theta - lr *gradient)\n",
    "elif 1:\n",
    "    # use train optimizer 조금 더 간단!\n",
    "    opt = tf.train.GradientDescentOptimizer(lr)\n",
    "    train = opt.minimize(loss)"
   ]
  },
  {
   "cell_type": "code",
   "execution_count": 155,
   "metadata": {},
   "outputs": [
    {
     "data": {
      "image/png": "[encoded data removed]",
      "text/plain": [
       "<Figure size 432x288 with 1 Axes>"
      ]
     },
     "metadata": {
      "needs_background": "light"
     },
     "output_type": "display_data"
    }
   ],
   "source": [
    "%matplotlib inline\n",
    "import numpy as np\n",
    "import matplotlib.pyplot as plt\n",
    "\n",
    "x_data = np.arange(4).astype(np.float32).reshape( (-1,1) )\n",
    "y_data = 2 * x_data + 1\n",
    "plt.plot(x_data.reshape((-1,)), y_data.reshape((-1,)), 'o')\n",
    "plt.xlim([0,20])\n",
    "plt.ylim([0,20])\n",
    "plt.grid()\n",
    "plt.show()"
   ]
  },
  {
   "cell_type": "code",
   "execution_count": 174,
   "metadata": {},
   "outputs": [],
   "source": [
    "import tensorflow as tf; tf.reset_default_graph()"
   ]
  },
  {
   "cell_type": "code",
   "execution_count": 175,
   "metadata": {},
   "outputs": [],
   "source": [
    "epoch = int(1e3)\n",
    "lr = 1e-3"
   ]
  },
  {
   "cell_type": "code",
   "execution_count": 176,
   "metadata": {},
   "outputs": [],
   "source": [
    "init_al = tf.keras.initializers.zeros()\n",
    "init_bt = tf.keras.initializers.constant(0.1)\n",
    "al = tf.get_variable(\"al\", (), tf.float32, init_al)\n",
    "bt = tf.get_variable(\"bt\", (), tf.float32, init_bt)"
   ]
  },
  {
   "cell_type": "code",
   "execution_count": 177,
   "metadata": {},
   "outputs": [],
   "source": [
    "x = tf.placeholder(tf.float32, [None, 1])\n",
    "y = tf.placeholder(tf.float32, [None, 1])"
   ]
  },
  {
   "cell_type": "code",
   "execution_count": 178,
   "metadata": {},
   "outputs": [],
   "source": [
    "y_pred = al + x * bt # (?, 1)\n",
    "loss = tf.nn.l2_loss(y_pred - y) #l2 loss (12아님...)"
   ]
  },
  {
   "cell_type": "code",
   "execution_count": 179,
   "metadata": {},
   "outputs": [
    {
     "name": "stdout",
     "output_type": "stream",
     "text": [
      "[<tf.Variable 'al:0' shape=() dtype=float32_ref>]\n",
      "<class 'list'>\n"
     ]
    }
   ],
   "source": [
    "if 0: #alpha, beta 모두 gradient descent 작용 (변화함)\n",
    "    opt = tf.train.GradientDescentOptimizer(lr)\n",
    "    train = opt.minimize(loss)\n",
    "elif 0 : #beta만 변경\n",
    "    tf.add_to_collection('beta', bt)\n",
    "    var_list = tf.get_collection('beta')\n",
    "    print(var_list)\n",
    "    print(type(var_list))\n",
    "    opt = tf.train.GradientDescentOptimizer(lr)\n",
    "    train = opt.minimize(loss, var_list=var_list) #list에 있는 beta만 가지고 와서 해라!\n",
    "elif 1 : #alpha만 변경\n",
    "    tf.add_to_collection('alpha', al)\n",
    "    var_list = tf.get_collection('alpha')\n",
    "    print(var_list)\n",
    "    print(type(var_list))\n",
    "    opt = tf.train.GradientDescentOptimizer(lr)\n",
    "    train = opt.minimize(loss, var_list=var_list) #list에 있는 alpha만 가지고 와서 해라!"
   ]
  },
  {
   "cell_type": "code",
   "execution_count": 180,
   "metadata": {},
   "outputs": [],
   "source": [
    "init = tf.global_variables_initializer()"
   ]
  },
  {
   "cell_type": "code",
   "execution_count": 181,
   "metadata": {},
   "outputs": [
    {
     "name": "stdout",
     "output_type": "stream",
     "text": [
      "[3.7800481, 0.1]\n"
     ]
    }
   ],
   "source": [
    "with tf.Session() as sess:\n",
    "    sess.run(init)\n",
    "    loss_trace = []\n",
    "    for _ in range(epoch):\n",
    "        feed_dict = {x : x_data, y : y_data}\n",
    "        loss_run, _ = sess.run([loss, train], feed_dict=feed_dict)\n",
    "        loss_trace.append(loss_run)\n",
    "    feed_dict = {x: x_data}\n",
    "    y_data_pred = sess.run(y_pred, feed_dict=feed_dict)\n",
    "    print(sess.run([al, bt]))"
   ]
  },
  {
   "cell_type": "code",
   "execution_count": 182,
   "metadata": {},
   "outputs": [
    {
     "data": {
      "image/png": "[encoded data removed]",
      "text/plain": [
       "<Figure size 432x288 with 1 Axes>"
      ]
     },
     "metadata": {
      "needs_background": "light"
     },
     "output_type": "display_data"
    }
   ],
   "source": [
    "%matplotlib inline\n",
    "import matplotlib.pyplot as plt\n",
    "plt.plot(loss_trace, 'o')\n",
    "plt.xlabel('gradient_step')\n",
    "plt.ylabel('loss')\n",
    "plt.show()"
   ]
  },
  {
   "cell_type": "code",
   "execution_count": 183,
   "metadata": {},
   "outputs": [
    {
     "data": {
      "image/png": "[encoded data removed]",
      "text/plain": [
       "<Figure size 432x288 with 1 Axes>"
      ]
     },
     "metadata": {
      "needs_background": "light"
     },
     "output_type": "display_data"
    }
   ],
   "source": [
    "%matplotlib inline\n",
    "import matplotlib.pyplot as plt\n",
    "plt.plot(x_data.reshape((-1)), y_data.reshape((-1)), 'o')\n",
    "plt.plot(x_data.reshape((-1)), y_data_pred.reshape((-1)), '*')\n",
    "plt.xlabel('True Price')\n",
    "plt.ylabel('Pred Price')\n",
    "plt.title('California Housing Price')\n",
    "plt.show()"
   ]
  },
  {
   "cell_type": "markdown",
   "metadata": {},
   "source": [
    "## clipping"
   ]
  },
  {
   "cell_type": "code",
   "execution_count": 184,
   "metadata": {},
   "outputs": [],
   "source": [
    "import tensorflow as tf\n",
    "import numpy as np\n",
    "(x_train, y_train), (x_test, y_test) = tf.keras.datasets.mnist.load_data()\n",
    "x_train = x_train.astype(np.float32).reshape(-1, 28*28) / 255.0\n",
    "x_test = x_test.astype(np.float32).reshape(-1, 28*28) / 255.0\n",
    "y_train = y_train.astype(np.int32)\n",
    "y_test = y_test.astype(np.int32)\n",
    "x_valid, x_train = x_train[:5000], x_train[5000:]\n",
    "y_valid, y_train = y_train[:5000], y_train[5000:]"
   ]
  },
  {
   "cell_type": "code",
   "execution_count": 185,
   "metadata": {},
   "outputs": [],
   "source": [
    "def shuffle_batch(x, y, batch_size):\n",
    "    rnd_idx = np.random.permutation(len(x))\n",
    "    n_batches = len(x) // batch_size\n",
    "    for batch_idx in np.array_split(rnd_idx, n_batches):\n",
    "        x_batch, y_batch = x[batch_idx], y[batch_idx]\n",
    "        yield x_batch, y_batch"
   ]
  },
  {
   "cell_type": "code",
   "execution_count": 186,
   "metadata": {},
   "outputs": [],
   "source": [
    "import tensorflow as tf\n",
    "import numpy as np\n",
    "tf.reset_default_graph()\n",
    "tf.set_random_seed(0)\n",
    "np.random.seed(0)"
   ]
  },
  {
   "cell_type": "code",
   "execution_count": 187,
   "metadata": {},
   "outputs": [],
   "source": [
    "lr = 1e-2\n",
    "epoch = 20\n",
    "batch_size = 200\n",
    "threshold = 1.0 #(-1,1)으로 clipping 하려는 parameter"
   ]
  },
  {
   "cell_type": "code",
   "execution_count": 188,
   "metadata": {},
   "outputs": [
    {
     "name": "stdout",
     "output_type": "stream",
     "text": [
      "WARNING:tensorflow:From <ipython-input-188-91f7833832db>:13: dense (from tensorflow.python.layers.core) is deprecated and will be removed in a future version.\n",
      "Instructions for updating:\n",
      "Use keras.layers.dense instead.\n",
      "WARNING:tensorflow:From C:\\Users\\sarah\\Anaconda3\\lib\\site-packages\\tensorflow\\python\\ops\\init_ops.py:1251: calling VarianceScaling.__init__ (from tensorflow.python.ops.init_ops) with dtype is deprecated and will be removed in a future version.\n",
      "Instructions for updating:\n",
      "Call initializer instance with the dtype argument instead of passing it to the constructor\n",
      "WARNING:tensorflow:Entity <bound method Dense.call of <tensorflow.python.layers.core.Dense object at 0x0000029ED909DB70>> could not be transformed and will be executed as-is. Please report this to the AutgoGraph team. When filing the bug, set the verbosity to 10 (on Linux, `export AUTOGRAPH_VERBOSITY=10`) and attach the full output. Cause: converting <bound method Dense.call of <tensorflow.python.layers.core.Dense object at 0x0000029ED909DB70>>: AssertionError: Bad argument number for Name: 3, expecting 4\n",
      "WARNING: Entity <bound method Dense.call of <tensorflow.python.layers.core.Dense object at 0x0000029ED909DB70>> could not be transformed and will be executed as-is. Please report this to the AutgoGraph team. When filing the bug, set the verbosity to 10 (on Linux, `export AUTOGRAPH_VERBOSITY=10`) and attach the full output. Cause: converting <bound method Dense.call of <tensorflow.python.layers.core.Dense object at 0x0000029ED909DB70>>: AssertionError: Bad argument number for Name: 3, expecting 4\n",
      "WARNING:tensorflow:Entity <bound method Dense.call of <tensorflow.python.layers.core.Dense object at 0x0000029ED90FE400>> could not be transformed and will be executed as-is. Please report this to the AutgoGraph team. When filing the bug, set the verbosity to 10 (on Linux, `export AUTOGRAPH_VERBOSITY=10`) and attach the full output. Cause: converting <bound method Dense.call of <tensorflow.python.layers.core.Dense object at 0x0000029ED90FE400>>: AssertionError: Bad argument number for Name: 3, expecting 4\n",
      "WARNING: Entity <bound method Dense.call of <tensorflow.python.layers.core.Dense object at 0x0000029ED90FE400>> could not be transformed and will be executed as-is. Please report this to the AutgoGraph team. When filing the bug, set the verbosity to 10 (on Linux, `export AUTOGRAPH_VERBOSITY=10`) and attach the full output. Cause: converting <bound method Dense.call of <tensorflow.python.layers.core.Dense object at 0x0000029ED90FE400>>: AssertionError: Bad argument number for Name: 3, expecting 4\n",
      "WARNING:tensorflow:Entity <bound method Dense.call of <tensorflow.python.layers.core.Dense object at 0x0000029ED90FE400>> could not be transformed and will be executed as-is. Please report this to the AutgoGraph team. When filing the bug, set the verbosity to 10 (on Linux, `export AUTOGRAPH_VERBOSITY=10`) and attach the full output. Cause: converting <bound method Dense.call of <tensorflow.python.layers.core.Dense object at 0x0000029ED90FE400>>: AssertionError: Bad argument number for Name: 3, expecting 4\n",
      "WARNING: Entity <bound method Dense.call of <tensorflow.python.layers.core.Dense object at 0x0000029ED90FE400>> could not be transformed and will be executed as-is. Please report this to the AutgoGraph team. When filing the bug, set the verbosity to 10 (on Linux, `export AUTOGRAPH_VERBOSITY=10`) and attach the full output. Cause: converting <bound method Dense.call of <tensorflow.python.layers.core.Dense object at 0x0000029ED90FE400>>: AssertionError: Bad argument number for Name: 3, expecting 4\n",
      "WARNING:tensorflow:Entity <bound method Dense.call of <tensorflow.python.layers.core.Dense object at 0x0000029ED90FE400>> could not be transformed and will be executed as-is. Please report this to the AutgoGraph team. When filing the bug, set the verbosity to 10 (on Linux, `export AUTOGRAPH_VERBOSITY=10`) and attach the full output. Cause: converting <bound method Dense.call of <tensorflow.python.layers.core.Dense object at 0x0000029ED90FE400>>: AssertionError: Bad argument number for Name: 3, expecting 4\n",
      "WARNING: Entity <bound method Dense.call of <tensorflow.python.layers.core.Dense object at 0x0000029ED90FE400>> could not be transformed and will be executed as-is. Please report this to the AutgoGraph team. When filing the bug, set the verbosity to 10 (on Linux, `export AUTOGRAPH_VERBOSITY=10`) and attach the full output. Cause: converting <bound method Dense.call of <tensorflow.python.layers.core.Dense object at 0x0000029ED90FE400>>: AssertionError: Bad argument number for Name: 3, expecting 4\n",
      "WARNING:tensorflow:Entity <bound method Dense.call of <tensorflow.python.layers.core.Dense object at 0x0000029ED90FE400>> could not be transformed and will be executed as-is. Please report this to the AutgoGraph team. When filing the bug, set the verbosity to 10 (on Linux, `export AUTOGRAPH_VERBOSITY=10`) and attach the full output. Cause: converting <bound method Dense.call of <tensorflow.python.layers.core.Dense object at 0x0000029ED90FE400>>: AssertionError: Bad argument number for Name: 3, expecting 4\n",
      "WARNING: Entity <bound method Dense.call of <tensorflow.python.layers.core.Dense object at 0x0000029ED90FE400>> could not be transformed and will be executed as-is. Please report this to the AutgoGraph team. When filing the bug, set the verbosity to 10 (on Linux, `export AUTOGRAPH_VERBOSITY=10`) and attach the full output. Cause: converting <bound method Dense.call of <tensorflow.python.layers.core.Dense object at 0x0000029ED90FE400>>: AssertionError: Bad argument number for Name: 3, expecting 4\n",
      "WARNING:tensorflow:Entity <bound method Dense.call of <tensorflow.python.layers.core.Dense object at 0x0000029ED90FE400>> could not be transformed and will be executed as-is. Please report this to the AutgoGraph team. When filing the bug, set the verbosity to 10 (on Linux, `export AUTOGRAPH_VERBOSITY=10`) and attach the full output. Cause: converting <bound method Dense.call of <tensorflow.python.layers.core.Dense object at 0x0000029ED90FE400>>: AssertionError: Bad argument number for Name: 3, expecting 4\n",
      "WARNING: Entity <bound method Dense.call of <tensorflow.python.layers.core.Dense object at 0x0000029ED90FE400>> could not be transformed and will be executed as-is. Please report this to the AutgoGraph team. When filing the bug, set the verbosity to 10 (on Linux, `export AUTOGRAPH_VERBOSITY=10`) and attach the full output. Cause: converting <bound method Dense.call of <tensorflow.python.layers.core.Dense object at 0x0000029ED90FE400>>: AssertionError: Bad argument number for Name: 3, expecting 4\n"
     ]
    }
   ],
   "source": [
    "n_inputs = 28 * 28  # MNIST\n",
    "n_hidden1 = 300\n",
    "n_hidden2 = 50\n",
    "n_hidden3 = 50\n",
    "n_hidden4 = 50\n",
    "n_hidden5 = 50\n",
    "n_outputs = 10\n",
    "\n",
    "x = tf.placeholder(tf.float32, shape=(None, n_inputs), name=\"x\")\n",
    "y = tf.placeholder(tf.int32, shape=(None), name=\"y\")\n",
    "\n",
    "with tf.variable_scope(\"dnn\"):\n",
    "    hidden1 = tf.layers.dense(x, n_hidden1, activation=tf.nn.relu, name=\"hidden1\")\n",
    "    hidden2 = tf.layers.dense(hidden1, n_hidden2, activation=tf.nn.relu, name=\"hidden2\")\n",
    "    hidden3 = tf.layers.dense(hidden2, n_hidden3, activation=tf.nn.relu, name=\"hidden3\")\n",
    "    hidden4 = tf.layers.dense(hidden3, n_hidden4, activation=tf.nn.relu, name=\"hidden4\")\n",
    "    hidden5 = tf.layers.dense(hidden4, n_hidden5, activation=tf.nn.relu, name=\"hidden5\")\n",
    "    logits = tf.layers.dense(hidden5, n_outputs, name=\"outputs\")\n",
    "\n",
    "with tf.variable_scope(\"loss\"):\n",
    "    entropy = tf.nn.sparse_softmax_cross_entropy_with_logits(labels=y, logits=logits)\n",
    "    loss = tf.reduce_mean(entropy, name=\"loss\") #loss function"
   ]
  },
  {
   "cell_type": "code",
   "execution_count": 189,
   "metadata": {},
   "outputs": [],
   "source": [
    "opt = tf.train.GradientDescentOptimizer(lr)\n",
    "# train = opt.minimize(loss) <- 아까는 이렇게 했었음\n",
    "grads_and_vars = opt.compute_gradients(loss)\n",
    "\n",
    "#이 부분이 없으면 그냥 기존의 gradient descent(아까 했던 것!) \n",
    "clipped_grads_and_vars = [ (tf.clip_by_value(grad, -threshold, threshold), var)\n",
    "                         for grad, var in grads_and_vars] #list안의 tuple 안에 있는 애들을 각각 지정\n",
    "train = opt.apply_gradients(clipped_grads_and_vars)"
   ]
  },
  {
   "cell_type": "code",
   "execution_count": 192,
   "metadata": {},
   "outputs": [
    {
     "name": "stdout",
     "output_type": "stream",
     "text": [
      "[(<tf.Tensor 'gradients/dnn/hidden1/MatMul_grad/tuple/control_dependency_1:0' shape=(784, 300) dtype=float32>, <tf.Variable 'dnn/hidden1/kernel:0' shape=(784, 300) dtype=float32_ref>), (<tf.Tensor 'gradients/dnn/hidden1/BiasAdd_grad/tuple/control_dependency_1:0' shape=(300,) dtype=float32>, <tf.Variable 'dnn/hidden1/bias:0' shape=(300,) dtype=float32_ref>), (<tf.Tensor 'gradients/dnn/hidden2/MatMul_grad/tuple/control_dependency_1:0' shape=(300, 50) dtype=float32>, <tf.Variable 'dnn/hidden2/kernel:0' shape=(300, 50) dtype=float32_ref>), (<tf.Tensor 'gradients/dnn/hidden2/BiasAdd_grad/tuple/control_dependency_1:0' shape=(50,) dtype=float32>, <tf.Variable 'dnn/hidden2/bias:0' shape=(50,) dtype=float32_ref>), (<tf.Tensor 'gradients/dnn/hidden3/MatMul_grad/tuple/control_dependency_1:0' shape=(50, 50) dtype=float32>, <tf.Variable 'dnn/hidden3/kernel:0' shape=(50, 50) dtype=float32_ref>), (<tf.Tensor 'gradients/dnn/hidden3/BiasAdd_grad/tuple/control_dependency_1:0' shape=(50,) dtype=float32>, <tf.Variable 'dnn/hidden3/bias:0' shape=(50,) dtype=float32_ref>), (<tf.Tensor 'gradients/dnn/hidden4/MatMul_grad/tuple/control_dependency_1:0' shape=(50, 50) dtype=float32>, <tf.Variable 'dnn/hidden4/kernel:0' shape=(50, 50) dtype=float32_ref>), (<tf.Tensor 'gradients/dnn/hidden4/BiasAdd_grad/tuple/control_dependency_1:0' shape=(50,) dtype=float32>, <tf.Variable 'dnn/hidden4/bias:0' shape=(50,) dtype=float32_ref>), (<tf.Tensor 'gradients/dnn/hidden5/MatMul_grad/tuple/control_dependency_1:0' shape=(50, 50) dtype=float32>, <tf.Variable 'dnn/hidden5/kernel:0' shape=(50, 50) dtype=float32_ref>), (<tf.Tensor 'gradients/dnn/hidden5/BiasAdd_grad/tuple/control_dependency_1:0' shape=(50,) dtype=float32>, <tf.Variable 'dnn/hidden5/bias:0' shape=(50,) dtype=float32_ref>), (<tf.Tensor 'gradients/dnn/outputs/MatMul_grad/tuple/control_dependency_1:0' shape=(50, 10) dtype=float32>, <tf.Variable 'dnn/outputs/kernel:0' shape=(50, 10) dtype=float32_ref>), (<tf.Tensor 'gradients/dnn/outputs/BiasAdd_grad/tuple/control_dependency_1:0' shape=(10,) dtype=float32>, <tf.Variable 'dnn/outputs/bias:0' shape=(10,) dtype=float32_ref>)]\n"
     ]
    }
   ],
   "source": [
    "print(grads_and_vars)"
   ]
  },
  {
   "cell_type": "code",
   "execution_count": 193,
   "metadata": {},
   "outputs": [
    {
     "name": "stdout",
     "output_type": "stream",
     "text": [
      "<class 'list'>\n"
     ]
    }
   ],
   "source": [
    "print(type(grads_and_vars))"
   ]
  },
  {
   "cell_type": "code",
   "execution_count": 195,
   "metadata": {},
   "outputs": [
    {
     "name": "stdout",
     "output_type": "stream",
     "text": [
      "<class 'tuple'>\n",
      "(<tf.Tensor 'gradients/dnn/hidden1/MatMul_grad/tuple/control_dependency_1:0' shape=(784, 300) dtype=float32>, <tf.Variable 'dnn/hidden1/kernel:0' shape=(784, 300) dtype=float32_ref>)\n"
     ]
    }
   ],
   "source": [
    "print(type(grads_and_vars[0]))\n",
    "print(grads_and_vars[0])"
   ]
  },
  {
   "cell_type": "code",
   "execution_count": 196,
   "metadata": {},
   "outputs": [],
   "source": [
    "with tf.name_scope(\"eval\"):\n",
    "    correct = tf.nn.in_top_k(logits, y, 1)\n",
    "    accuracy = tf.reduce_mean(tf.cast(correct, tf.float32), name=\"accuracy\")"
   ]
  },
  {
   "cell_type": "code",
   "execution_count": 197,
   "metadata": {},
   "outputs": [],
   "source": [
    "init = tf.global_variables_initializer()"
   ]
  },
  {
   "cell_type": "code",
   "execution_count": 198,
   "metadata": {},
   "outputs": [
    {
     "name": "stdout",
     "output_type": "stream",
     "text": [
      "0 Validation accuracy: 0.5998\n",
      "1 Validation accuracy: 0.8308\n",
      "2 Validation accuracy: 0.8762\n",
      "3 Validation accuracy: 0.908\n",
      "4 Validation accuracy: 0.9146\n",
      "5 Validation accuracy: 0.9254\n",
      "6 Validation accuracy: 0.929\n",
      "7 Validation accuracy: 0.9346\n",
      "8 Validation accuracy: 0.9392\n",
      "9 Validation accuracy: 0.9444\n",
      "10 Validation accuracy: 0.945\n",
      "11 Validation accuracy: 0.9488\n",
      "12 Validation accuracy: 0.9498\n",
      "13 Validation accuracy: 0.9504\n",
      "14 Validation accuracy: 0.955\n",
      "15 Validation accuracy: 0.9544\n",
      "16 Validation accuracy: 0.9558\n",
      "17 Validation accuracy: 0.9578\n",
      "18 Validation accuracy: 0.96\n",
      "19 Validation accuracy: 0.9598\n"
     ]
    }
   ],
   "source": [
    "with tf.Session() as sess:\n",
    "    init.run()\n",
    "    for i in range(epoch):\n",
    "        for x_batch, y_batch in shuffle_batch(x_train, y_train, batch_size):\n",
    "            sess.run(train, feed_dict={x: x_batch, y: y_batch})\n",
    "        accuracy_val = accuracy.eval(feed_dict={x: x_valid, y: y_valid})\n",
    "        print(i, \"Validation accuracy:\", accuracy_val)"
   ]
  },
  {
   "cell_type": "code",
   "execution_count": null,
   "metadata": {},
   "outputs": [],
   "source": []
  },
  {
   "cell_type": "code",
   "execution_count": 24,
   "metadata": {},
   "outputs": [
    {
     "name": "stdout",
     "output_type": "stream",
     "text": [
      "# packages in environment at C:\\Users\\sarah\\Anaconda3:\n",
      "#\n",
      "# Name                    Version                   Build  Channel\n",
      "_ipyw_jlab_nb_ext_conf    0.1.0                    py37_0  \n",
      "absl-py                   0.8.0                    pypi_0    pypi\n",
      "alabaster                 0.7.12                   py37_0  \n",
      "anaconda                  2019.07                  py37_0  \n",
      "anaconda-client           1.7.2                    py37_0  \n",
      "anaconda-navigator        1.9.7                    py37_0  \n",
      "anaconda-project          0.8.3                      py_0  \n",
      "asn1crypto                0.24.0                   py37_0  \n",
      "astor                     0.8.0                    pypi_0    pypi\n",
      "astroid                   2.2.5                    py37_0  \n",
      "astropy                   3.2.1            py37he774522_0  \n",
      "atomicwrites              1.3.0                    py37_1  \n",
      "attrs                     19.1.0                   py37_1  \n",
      "babel                     2.7.0                      py_0  \n",
      "backcall                  0.1.0                    py37_0  \n",
      "backports                 1.0                        py_2  \n",
      "backports.functools_lru_cache 1.5                        py_2  \n",
      "backports.os              0.1.1                    py37_0  \n",
      "backports.shutil_get_terminal_size 1.0.0                    py37_2  \n",
      "backports.tempfile        1.0                        py_1  \n",
      "backports.weakref         1.0.post1                  py_1  \n",
      "beautifulsoup4            4.7.1                    py37_1  \n",
      "bitarray                  0.9.3            py37he774522_0  \n",
      "bkcharts                  0.2                      py37_0  \n",
      "blas                      1.0                         mkl  \n",
      "bleach                    3.1.0                    py37_0  \n",
      "blosc                     1.16.3               h7bd577a_0  \n",
      "bokeh                     1.2.0                    py37_0  \n",
      "boto                      2.49.0                   py37_0  \n",
      "bottleneck                1.2.1            py37h452e1ab_1  \n",
      "bzip2                     1.0.8                he774522_0  \n",
      "ca-certificates           2019.5.15                     0  \n",
      "certifi                   2019.6.16                py37_0  \n",
      "cffi                      1.12.3           py37h7a1dbc1_0  \n",
      "chardet                   3.0.4                    py37_1  \n",
      "click                     7.0                      py37_0  \n",
      "cloudpickle               1.2.1                      py_0  \n",
      "clyent                    1.2.2                    py37_1  \n",
      "colorama                  0.4.1                    py37_0  \n",
      "comtypes                  1.1.7                    py37_0  \n",
      "conda                     4.7.10                   py37_0  \n",
      "conda-build               3.18.8                   py37_0  \n",
      "conda-env                 2.6.0                         1  \n",
      "conda-package-handling    1.3.11                   py37_0  \n",
      "conda-verify              3.4.2                      py_1  \n",
      "console_shortcut          0.1.1                         3  \n",
      "contextlib2               0.5.5                    py37_0  \n",
      "cryptography              2.7              py37h7a1dbc1_0  \n",
      "curl                      7.65.2               h2a8f88b_0  \n",
      "cycler                    0.10.0                   py37_0  \n",
      "cython                    0.29.12          py37ha925a31_0  \n",
      "cytoolz                   0.10.0           py37he774522_0  \n",
      "dask                      2.1.0                      py_0  \n",
      "dask-core                 2.1.0                      py_0  \n",
      "decorator                 4.4.0                    py37_1  \n",
      "defusedxml                0.6.0                      py_0  \n",
      "distributed               2.1.0                      py_0  \n",
      "docutils                  0.14                     py37_0  \n",
      "entrypoints               0.3                      py37_0  \n",
      "et_xmlfile                1.0.1                    py37_0  \n",
      "fastcache                 1.1.0            py37he774522_0  \n",
      "filelock                  3.0.12                     py_0  \n",
      "flask                     1.1.1                      py_0  \n",
      "freetype                  2.9.1                ha9979f8_1  \n",
      "future                    0.17.1                   py37_0  \n",
      "gast                      0.3.2                    pypi_0    pypi\n",
      "get_terminal_size         1.0.0                h38e98db_0  \n",
      "gevent                    1.4.0            py37he774522_0  \n",
      "glob2                     0.7                        py_0  \n",
      "google-images-download    2.8.0                    pypi_0    pypi\n",
      "google-pasta              0.1.7                    pypi_0    pypi\n",
      "greenlet                  0.4.15           py37hfa6e2cd_0  \n",
      "grpcio                    1.23.0                   pypi_0    pypi\n",
      "h5py                      2.9.0            py37h5e291fa_0  \n",
      "hdf5                      1.10.4               h7ebc959_0  \n",
      "heapdict                  1.0.0                    py37_2  \n",
      "html5lib                  1.0.1                    py37_0  \n",
      "icc_rt                    2019.0.0             h0cc432a_1  \n",
      "icu                       58.2                 ha66f8fd_1  \n",
      "idna                      2.8                      py37_0  \n",
      "imageio                   2.5.0                    py37_0  \n",
      "imagesize                 1.1.0                    py37_0  \n",
      "importlib_metadata        0.17                     py37_1  \n",
      "intel-openmp              2019.4                      245  \n",
      "ipykernel                 5.1.1            py37h39e3cac_0  \n",
      "ipython                   7.6.1            py37h39e3cac_0  \n",
      "ipython_genutils          0.2.0                    py37_0  \n",
      "ipywidgets                7.5.0                      py_0  \n",
      "isort                     4.3.21                   py37_0  \n",
      "itsdangerous              1.1.0                    py37_0  \n",
      "jdcal                     1.4.1                      py_0  \n",
      "jedi                      0.13.3                   py37_0  \n",
      "jinja2                    2.10.1                   py37_0  \n",
      "joblib                    0.13.2                   py37_0  \n",
      "jpeg                      9b                   hb83a4c4_2  \n",
      "json5                     0.8.4                      py_0  \n",
      "jsonschema                3.0.1                    py37_0  \n",
      "jupyter                   1.0.0                    py37_7  \n",
      "jupyter_client            5.3.1                      py_0  \n",
      "jupyter_console           6.0.0                    py37_0  \n",
      "jupyter_core              4.5.0                      py_0  \n",
      "jupyterlab                1.0.2            py37hf63ae98_0  \n",
      "jupyterlab_server         1.0.0                      py_0  \n",
      "keras                     2.3.1                    pypi_0    pypi\n",
      "keras-applications        1.0.8                    pypi_0    pypi\n",
      "keras-preprocessing       1.1.0                    pypi_0    pypi\n",
      "keyring                   18.0.0                   py37_0  \n",
      "kiwisolver                1.1.0            py37ha925a31_0  \n",
      "krb5                      1.16.1               hc04afaa_7  \n",
      "lazy-object-proxy         1.4.1            py37he774522_0  \n",
      "libarchive                3.3.3                h0643e63_5  \n",
      "libcurl                   7.65.2               h2a8f88b_0  \n",
      "libiconv                  1.15                 h1df5818_7  \n",
      "liblief                   0.9.0                ha925a31_2  \n",
      "libpng                    1.6.37               h2a8f88b_0  \n",
      "libsodium                 1.0.16               h9d3ae62_0  \n",
      "libssh2                   1.8.2                h7a1dbc1_0  \n",
      "libtiff                   4.0.10               hb898794_2  \n",
      "libxml2                   2.9.9                h464c3ec_0  \n",
      "libxslt                   1.1.33               h579f668_0  \n",
      "llvmlite                  0.29.0           py37ha925a31_0  \n",
      "locket                    0.2.0                    py37_1  \n",
      "lxml                      4.3.4            py37h1350720_0  \n",
      "lz4-c                     1.8.1.2              h2fa13f4_0  \n",
      "lzo                       2.10                 h6df0209_2  \n",
      "m2w64-gcc-libgfortran     5.3.0                         6  \n",
      "m2w64-gcc-libs            5.3.0                         7  \n",
      "m2w64-gcc-libs-core       5.3.0                         7  \n",
      "m2w64-gmp                 6.1.0                         2  \n",
      "m2w64-libwinpthread-git   5.0.0.4634.697f757               2  \n",
      "markdown                  3.1.1                    pypi_0    pypi\n",
      "markupsafe                1.1.1            py37he774522_0  \n",
      "matplotlib                3.1.0            py37hc8f65d3_0  \n",
      "mccabe                    0.6.1                    py37_1  \n",
      "menuinst                  1.4.16           py37he774522_0  \n",
      "mistune                   0.8.4            py37he774522_0  \n",
      "mkl                       2019.4                      245  \n",
      "mkl-service               2.0.2            py37he774522_0  \n",
      "mkl_fft                   1.0.12           py37h14836fe_0  \n",
      "mkl_random                1.0.2            py37h343c172_0  \n",
      "mock                      3.0.5                    py37_0  \n",
      "more-itertools            7.0.0                    py37_0  \n",
      "mpmath                    1.1.0                    py37_0  \n",
      "msgpack-python            0.6.1            py37h74a9793_1  \n",
      "msys2-conda-epoch         20160418                      1  \n",
      "multipledispatch          0.6.0                    py37_0  \n",
      "navigator-updater         0.2.1                    py37_0  \n",
      "nbconvert                 5.5.0                      py_0  \n",
      "nbformat                  4.4.0                    py37_0  \n",
      "networkx                  2.3                        py_0  \n",
      "nltk                      3.4.4                    py37_0  \n",
      "nose                      1.3.7                    py37_2  \n",
      "notebook                  6.0.0                    py37_0  \n",
      "numba                     0.44.1           py37hf9181ef_0  \n",
      "numexpr                   2.6.9            py37hdce8814_0  \n",
      "numpy                     1.16.4           py37h19fb1c0_0  \n",
      "numpy-base                1.16.4           py37hc3f5095_0  \n",
      "numpydoc                  0.9.1                      py_0  \n",
      "olefile                   0.46                     py37_0  \n",
      "opencv-python             4.2.0.34                 pypi_0    pypi\n",
      "openpyxl                  2.6.2                      py_0  \n",
      "openssl                   1.1.1c               he774522_1  \n",
      "packaging                 19.0                     py37_0  \n",
      "pandas                    0.24.2           py37ha925a31_0  \n",
      "pandas-datareader         0.8.1                    pypi_0    pypi\n",
      "pandoc                    2.2.3.2                       0  \n",
      "pandocfilters             1.4.2                    py37_1  \n",
      "parso                     0.5.0                      py_0  \n",
      "partd                     1.0.0                      py_0  \n",
      "path.py                   12.0.1                     py_0  \n",
      "pathlib2                  2.3.4                    py37_0  \n",
      "patsy                     0.5.1                    py37_0  \n",
      "pep8                      1.7.1                    py37_0  \n",
      "pickleshare               0.7.5                    py37_0  \n",
      "pillow                    6.1.0            py37hdc69c19_0  \n",
      "pip                       19.1.1                   py37_0  \n",
      "pkginfo                   1.5.0.1                  py37_0  \n",
      "pluggy                    0.12.0                     py_0  \n",
      "ply                       3.11                     py37_0  \n",
      "powershell_shortcut       0.0.1                         2  \n",
      "prometheus_client         0.7.1                      py_0  \n",
      "prompt_toolkit            2.0.9                    py37_0  \n",
      "protobuf                  3.9.2                    pypi_0    pypi\n",
      "psutil                    5.6.3            py37he774522_0  \n",
      "py                        1.8.0                    py37_0  \n",
      "py-lief                   0.9.0            py37ha925a31_2  \n",
      "pycodestyle               2.5.0                    py37_0  \n",
      "pycosat                   0.6.3            py37hfa6e2cd_0  \n",
      "pycparser                 2.19                     py37_0  \n",
      "pycrypto                  2.6.1            py37hfa6e2cd_9  \n",
      "pycurl                    7.43.0.3         py37h7a1dbc1_0  \n",
      "pyflakes                  2.1.1                    py37_0  \n",
      "pygments                  2.4.2                      py_0  \n",
      "pylint                    2.3.1                    py37_0  \n",
      "pyodbc                    4.0.26           py37ha925a31_0  \n",
      "pyopenssl                 19.0.0                   py37_0  \n",
      "pyparsing                 2.4.0                      py_0  \n",
      "pyqt                      5.9.2            py37h6538335_2  \n",
      "pyreadline                2.1                      py37_1  \n",
      "pyrsistent                0.14.11          py37he774522_0  \n",
      "pysocks                   1.7.0                    py37_0  \n",
      "pytables                  3.5.2            py37h1da0976_1  \n",
      "pytest                    5.0.1                    py37_0  \n",
      "pytest-arraydiff          0.3              py37h39e3cac_0  \n",
      "pytest-astropy            0.5.0                    py37_0  \n",
      "pytest-doctestplus        0.3.0                    py37_0  \n",
      "pytest-openfiles          0.3.2                    py37_0  \n",
      "pytest-remotedata         0.3.1                    py37_0  \n",
      "python                    3.7.3                h8c8aaf0_1  \n",
      "python-dateutil           2.8.0                    py37_0  \n",
      "python-libarchive-c       2.8                     py37_11  \n",
      "pytz                      2019.1                     py_0  \n",
      "pywavelets                1.0.3            py37h8c2d366_1  \n",
      "pywin32                   223              py37hfa6e2cd_1  \n",
      "pywinpty                  0.5.5                 py37_1000  \n",
      "pyyaml                    5.1.1            py37he774522_0  \n",
      "pyzmq                     18.0.0           py37ha925a31_0  \n",
      "qt                        5.9.7            vc14h73c81de_0  \n",
      "qtawesome                 0.5.7                    py37_1  \n",
      "qtconsole                 4.5.1                      py_0  \n",
      "qtpy                      1.8.0                      py_0  \n",
      "requests                  2.22.0                   py37_0  \n",
      "rope                      0.14.0                     py_0  \n",
      "ruamel_yaml               0.15.46          py37hfa6e2cd_0  \n",
      "scikit-image              0.15.0           py37ha925a31_0  \n",
      "scikit-learn              0.21.2           py37h6288b17_0  \n",
      "scipy                     1.2.1            py37h29ff71c_0  \n",
      "seaborn                   0.9.0                    py37_0  \n",
      "selenium                  3.141.0                  pypi_0    pypi\n",
      "send2trash                1.5.0                    py37_0  \n",
      "setuptools                41.0.1                   py37_0  \n",
      "simplegeneric             0.8.1                    py37_2  \n",
      "singledispatch            3.4.0.3                  py37_0  \n",
      "sip                       4.19.8           py37h6538335_0  \n",
      "six                       1.12.0                   py37_0  \n",
      "snappy                    1.1.7                h777316e_3  \n",
      "snowballstemmer           1.9.0                      py_0  \n",
      "sortedcollections         1.1.2                    py37_0  \n",
      "sortedcontainers          2.1.0                    py37_0  \n",
      "soupsieve                 1.8                      py37_0  \n",
      "sphinx                    2.1.2                      py_0  \n",
      "sphinxcontrib             1.0                      py37_1  \n",
      "sphinxcontrib-applehelp   1.0.1                      py_0  \n",
      "sphinxcontrib-devhelp     1.0.1                      py_0  \n",
      "sphinxcontrib-htmlhelp    1.0.2                      py_0  \n",
      "sphinxcontrib-jsmath      1.0.1                      py_0  \n",
      "sphinxcontrib-qthelp      1.0.2                      py_0  \n",
      "sphinxcontrib-serializinghtml 1.1.3                      py_0  \n",
      "sphinxcontrib-websupport  1.1.2                      py_0  \n",
      "spyder                    3.3.6                    py37_0  \n",
      "spyder-kernels            0.5.1                    py37_0  \n",
      "sqlalchemy                1.3.5            py37he774522_0  \n",
      "sqlite                    3.29.0               he774522_0  \n",
      "statsmodels               0.10.0           py37h8c2d366_0  \n",
      "sympy                     1.4                      py37_0  \n",
      "tblib                     1.4.0                      py_0  \n",
      "tensorboard               1.14.0                   pypi_0    pypi\n",
      "tensorflow                1.14.0                   pypi_0    pypi\n",
      "tensorflow-estimator      1.14.0                   pypi_0    pypi\n",
      "termcolor                 1.1.0                    pypi_0    pypi\n",
      "terminado                 0.8.2                    py37_0  \n",
      "testpath                  0.4.2                    py37_0  \n",
      "tk                        8.6.8                hfa6e2cd_0  \n",
      "toolz                     0.10.0                     py_0  \n",
      "tornado                   6.0.3            py37he774522_0  \n",
      "tqdm                      4.32.1                     py_0  \n",
      "traitlets                 4.3.2                    py37_0  \n",
      "unicodecsv                0.14.1                   py37_0  \n",
      "urllib3                   1.24.2                   py37_0  \n",
      "vc                        14.1                 h0510ff6_4  \n",
      "vs2015_runtime            14.15.26706          h3a45250_4  \n",
      "wcwidth                   0.1.7                    py37_0  \n",
      "webencodings              0.5.1                    py37_1  \n",
      "werkzeug                  0.15.4                     py_0  \n",
      "wheel                     0.33.4                   py37_0  \n",
      "widgetsnbextension        3.5.0                    py37_0  \n",
      "win_inet_pton             1.1.0                    py37_0  \n",
      "win_unicode_console       0.5                      py37_0  \n",
      "wincertstore              0.2                      py37_0  \n",
      "winpty                    0.4.3                         4  \n",
      "wrapt                     1.11.2           py37he774522_0  \n",
      "xlrd                      1.2.0                    py37_0  \n",
      "xlsxwriter                1.1.8                      py_0  \n",
      "xlwings                   0.15.8                   py37_0  \n",
      "xlwt                      1.3.0                    py37_0  \n",
      "xz                        5.2.4                h2fa13f4_4  \n",
      "yaml                      0.1.7                hc54c509_2  \n",
      "zeromq                    4.3.1                h33f27b4_3  \n",
      "zict                      1.0.0                      py_0  \n",
      "zipp                      0.5.1                      py_0  \n",
      "zlib                      1.2.11               h62dcd97_3  \n",
      "zstd                      1.3.7                h508b16e_0  \n",
      "\n",
      "Note: you may need to restart the kernel to use updated packages.\n"
     ]
    }
   ],
   "source": [
    "conda list"
   ]
  },
  {
   "cell_type": "code",
   "execution_count": null,
   "metadata": {},
   "outputs": [],
   "source": []
  },
  {
   "cell_type": "code",
   "execution_count": null,
   "metadata": {},
   "outputs": [],
   "source": []
  }
 ],
 "metadata": {
  "kernelspec": {
   "display_name": "Python 3",
   "language": "python",
   "name": "python3"
  },
  "language_info": {
   "codemirror_mode": {
    "name": "ipython",
    "version": 3
   },
   "file_extension": ".py",
   "mimetype": "text/x-python",
   "name": "python",
   "nbconvert_exporter": "python",
   "pygments_lexer": "ipython3",
   "version": "3.7.3"
  }
 },
 "nbformat": 4,
 "nbformat_minor": 2
}
