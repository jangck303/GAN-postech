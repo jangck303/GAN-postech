{
 "cells": [
  {
   "cell_type": "markdown",
   "metadata": {},
   "source": [
    "# News topic"
   ]
  },
  {
   "cell_type": "markdown",
   "metadata": {},
   "source": [
    "## basic code"
   ]
  },
  {
   "cell_type": "code",
   "execution_count": 1,
   "metadata": {},
   "outputs": [],
   "source": [
    "import tensorflow as tf"
   ]
  },
  {
   "cell_type": "code",
   "execution_count": 3,
   "metadata": {},
   "outputs": [],
   "source": [
    "epochs = 20\n",
    "batch_size = 512\n",
    "lr = 1e-3"
   ]
  },
  {
   "cell_type": "code",
   "execution_count": 2,
   "metadata": {
    "scrolled": false
   },
   "outputs": [
    {
     "name": "stdout",
     "output_type": "stream",
     "text": [
      "1.16.1\n"
     ]
    }
   ],
   "source": [
    "import numpy as np\n",
    "print(np.__version__)"
   ]
  },
  {
   "cell_type": "code",
   "execution_count": 4,
   "metadata": {},
   "outputs": [
    {
     "name": "stdout",
     "output_type": "stream",
     "text": [
      "<class 'tuple'>\n"
     ]
    }
   ],
   "source": [
    "a = tf.keras.datasets.reuters.load_data(num_words=10000)\n",
    "print(type(a))"
   ]
  },
  {
   "cell_type": "code",
   "execution_count": 6,
   "metadata": {},
   "outputs": [
    {
     "name": "stdout",
     "output_type": "stream",
     "text": [
      "<class 'tuple'> <class 'tuple'>\n"
     ]
    }
   ],
   "source": [
    "b, c = a\n",
    "print(type(b), type(c))"
   ]
  },
  {
   "cell_type": "code",
   "execution_count": 7,
   "metadata": {},
   "outputs": [
    {
     "name": "stdout",
     "output_type": "stream",
     "text": [
      "(8982,) (8982,) (2246,) (2246,)\n"
     ]
    }
   ],
   "source": [
    "x_train, y_train_cls = b\n",
    "x_test, y_test_cls = c\n",
    "print(x_train.shape, y_train_cls.shape, x_test.shape, y_test_cls.shape)"
   ]
  },
  {
   "cell_type": "code",
   "execution_count": 8,
   "metadata": {},
   "outputs": [
    {
     "name": "stdout",
     "output_type": "stream",
     "text": [
      "<class 'list'> <class 'list'>\n"
     ]
    }
   ],
   "source": [
    "print(type(x_train[0]), type(x_test[0]))"
   ]
  },
  {
   "cell_type": "code",
   "execution_count": 9,
   "metadata": {},
   "outputs": [
    {
     "name": "stdout",
     "output_type": "stream",
     "text": [
      "0 0\n"
     ]
    }
   ],
   "source": [
    "print(y_train_cls.min(), y_test_cls.min())"
   ]
  },
  {
   "cell_type": "code",
   "execution_count": 10,
   "metadata": {},
   "outputs": [
    {
     "name": "stdout",
     "output_type": "stream",
     "text": [
      "45 45\n"
     ]
    }
   ],
   "source": [
    "print(y_train_cls.max(), y_test_cls.max())"
   ]
  },
  {
   "cell_type": "code",
   "execution_count": 11,
   "metadata": {},
   "outputs": [
    {
     "name": "stdout",
     "output_type": "stream",
     "text": [
      "[1, 2, 2, 8, 43, 10, 447, 5, 25, 207, 270, 5, 3095, 111, 16, 369, 186, 90, 67, 7, 89, 5, 19, 102, 6, 19, 124, 15, 90, 67, 84, 22, 482, 26, 7, 48, 4, 49, 8, 864, 39, 209, 154, 6, 151, 6, 83, 11, 15, 22, 155, 11, 15, 7, 48, 9, 4579, 1005, 504, 6, 258, 6, 272, 11, 15, 22, 134, 44, 11, 15, 16, 8, 197, 1245, 90, 67, 52, 29, 209, 30, 32, 132, 6, 109, 15, 17, 12]\n"
     ]
    }
   ],
   "source": [
    "print(x_train[0])"
   ]
  },
  {
   "cell_type": "code",
   "execution_count": 12,
   "metadata": {
    "scrolled": true
   },
   "outputs": [
    {
     "name": "stdout",
     "output_type": "stream",
     "text": [
      "Downloading data from https://storage.googleapis.com/tensorflow/tf-keras-datasets/reuters_word_index.json\n",
      "557056/550378 [==============================] - 0s 1us/step\n",
      "(8982,) (8982,) (2246,) (2246,)\n"
     ]
    }
   ],
   "source": [
    "y_train_cls = y_train_cls.astype(np.int32) #원래 class가 numpy.int32면 굳이 바꿀 필요 없음....\n",
    "y_test_cls = y_test_cls.astype(np.int32)\n",
    "word2int = tf.keras.datasets.reuters.get_word_index(path='reuters_word_index.json')\n",
    "int2word = dict([(value, key) for (key, value) in word2int.items()])\n",
    "print(x_train.shape, y_train_cls.shape, x_test.shape, y_test_cls.shape)"
   ]
  },
  {
   "cell_type": "code",
   "execution_count": 13,
   "metadata": {},
   "outputs": [
    {
     "name": "stdout",
     "output_type": "stream",
     "text": [
      "<class 'numpy.int32'>\n"
     ]
    }
   ],
   "source": [
    "print(type(y_test_cls[0]))"
   ]
  },
  {
   "cell_type": "code",
   "execution_count": 14,
   "metadata": {},
   "outputs": [
    {
     "name": "stdout",
     "output_type": "stream",
     "text": [
      "? ? ? said as a result of its december acquisition of space co it expects earnings per share in 1987 of 1 15 to 1 30 dlrs per share up from 70 cts in 1986 the company said pretax net should rise to nine to 10 mln dlrs from six mln dlrs in 1986 and rental operation revenues to 19 to 22 mln dlrs from 12 5 mln dlrs it said cash flow per share this year should be 2 50 to three dlrs reuter 3\n",
      "3\n"
     ]
    }
   ],
   "source": [
    "print(' '.join([int2word.get(i - 3, '?') for i in x_train[0]])) #-3은 .. 뭘가\n",
    "print(y_train_cls[0])"
   ]
  },
  {
   "cell_type": "code",
   "execution_count": 15,
   "metadata": {},
   "outputs": [
    {
     "name": "stdout",
     "output_type": "stream",
     "text": [
      "(8982, 10000) (8982,) (2246, 10000) (2246,)\n"
     ]
    }
   ],
   "source": [
    "def vectorize_sequences(sequences, dimension=10000):\n",
    "    results = np.zeros((len(sequences), dimension))\n",
    "    for i, sequence in enumerate(sequences):\n",
    "        results[i, sequence] = 1.  \n",
    "    return results\n",
    "x_train = vectorize_sequences(x_train) \n",
    "x_test = vectorize_sequences(x_test) \n",
    "print(x_train.shape, y_train_cls.shape, x_test.shape, y_test_cls.shape)"
   ]
  },
  {
   "cell_type": "code",
   "execution_count": 16,
   "metadata": {},
   "outputs": [
    {
     "name": "stdout",
     "output_type": "stream",
     "text": [
      "(8982, 10000) (8982, 46) (8982,) (2246, 10000) (2246, 46) (2246,)\n"
     ]
    }
   ],
   "source": [
    "y_train = np.squeeze(np.eye(46)[y_train_cls]).astype(np.int32)\n",
    "y_test = np.squeeze(np.eye(46)[y_test_cls]).astype(np.int32)\n",
    "print(x_train.shape, y_train.shape, y_train_cls.shape, x_test.shape, y_test.shape, y_test_cls.shape)"
   ]
  },
  {
   "cell_type": "code",
   "execution_count": 17,
   "metadata": {},
   "outputs": [],
   "source": [
    "tf.reset_default_graph()\n",
    "tf.set_random_seed(0)\n",
    "np.random.seed(0)"
   ]
  },
  {
   "cell_type": "code",
   "execution_count": 18,
   "metadata": {},
   "outputs": [
    {
     "name": "stdout",
     "output_type": "stream",
     "text": [
      "WARNING:tensorflow:From C:\\Users\\sarah\\Anaconda3\\lib\\site-packages\\tensorflow\\python\\training\\rmsprop.py:119: calling Ones.__init__ (from tensorflow.python.ops.init_ops) with dtype is deprecated and will be removed in a future version.\n",
      "Instructions for updating:\n",
      "Call initializer instance with the dtype argument instead of passing it to the constructor\n"
     ]
    }
   ],
   "source": [
    "x = tf.placeholder(tf.float32, (None, 10000)) \n",
    "y = tf.placeholder(tf.int32, (None, 46)) \n",
    "y_cls = tf.placeholder(tf.int32, (None,)) \n",
    "\n",
    "init_b = tf.keras.initializers.constant(0.0)\n",
    "init_w = tf.keras.initializers.VarianceScaling(mode='fan_avg')\n",
    "\n",
    "b1 = tf.get_variable('b1', (64,), tf.float32, init_b)\n",
    "w1 = tf.get_variable('w1', (10000,64), tf.float32, init_w)\n",
    "\n",
    "b2 = tf.get_variable('b2', (64,), tf.float32, init_b)\n",
    "w2 = tf.get_variable('w2', (64,64), tf.float32, init_w)\n",
    "\n",
    "b3 = tf.get_variable('b3', (46,), tf.float32, init_b)\n",
    "w3 = tf.get_variable('w3', (64,46), tf.float32, init_w) #1이 아니라 46!\n",
    "\n",
    "x1 = tf.nn.relu(x @ w1 + b1) \n",
    "x2 = tf.nn.relu(x1 @ w2 + b2) \n",
    "logits = x2 @ w3 + b3\n",
    "y_pred_cls = tf.cast(tf.argmax(logits, axis=1), tf.int32, name='y_pred_cls') \n",
    "\n",
    "entropy = tf.nn.softmax_cross_entropy_with_logits_v2(labels=y, logits=logits) #sigmoid가 아닌 softmax! \n",
    "loss = tf.reduce_mean(entropy) \n",
    "train = tf.train.RMSPropOptimizer(lr).minimize(loss)\n",
    "\n",
    "correct = tf.nn.in_top_k(logits, y_cls, 1)\n",
    "accuracy = tf.reduce_mean(tf.cast(correct, tf.float32))\n",
    "\n",
    "init = tf.global_variables_initializer()\n",
    "saver = tf.train.Saver()"
   ]
  },
  {
   "cell_type": "code",
   "execution_count": 19,
   "metadata": {},
   "outputs": [],
   "source": [
    "def shuffle_batch(x, y, y_cls, batch_size):\n",
    "    rnd_idx = np.random.permutation(len(x))\n",
    "    n_batches = len(x) // batch_size\n",
    "    for batch_idx in np.array_split(rnd_idx, n_batches):\n",
    "        yield x[batch_idx], y[batch_idx], y_cls[batch_idx]"
   ]
  },
  {
   "cell_type": "code",
   "execution_count": 20,
   "metadata": {},
   "outputs": [
    {
     "name": "stdout",
     "output_type": "stream",
     "text": [
      "\n",
      "epoch 0/20 \n",
      "epoch 1/20 \n",
      "epoch 2/20 \n",
      "epoch 3/20 \n",
      "epoch 4/20 \n",
      "epoch 5/20 \n",
      "epoch 6/20 \n",
      "epoch 7/20 \n",
      "epoch 8/20 \n",
      "epoch 9/20 \n",
      "epoch 10/20 \n",
      "epoch 11/20 \n",
      "epoch 12/20 \n",
      "epoch 13/20 \n",
      "epoch 14/20 \n",
      "epoch 15/20 \n",
      "epoch 16/20 \n",
      "epoch 17/20 \n",
      "epoch 18/20 \n",
      "epoch 19/20 "
     ]
    }
   ],
   "source": [
    "with tf.Session() as sess:\n",
    "    init.run()\n",
    "    #saver.restore(sess, 'save/nn.ckpt')\n",
    "    \n",
    "    loss_trace = []\n",
    "    accuracy_trace = []\n",
    "\n",
    "    for i in range(epochs):\n",
    "        print()\n",
    "        print('epoch {}/{}'.format(i, epochs), end=' ')\n",
    "        for x_batch, y_batch, y_batch_cls in shuffle_batch(x_train, y_train, y_train_cls, batch_size):\n",
    "            feed_dict = {x: x_batch, y: y_batch, y_cls: y_batch_cls}\n",
    "            loss_run, accuracy_run, _ = sess.run([loss, accuracy, train], feed_dict=feed_dict)\n",
    "            loss_trace.append(loss_run)\n",
    "            accuracy_trace.append(accuracy_run)\n",
    "\n",
    "    feed_dict = {x: x_test, y: y_test, y_cls: y_test_cls}\n",
    "    accuracy_run, y_test_pred_cls = sess.run([accuracy, y_pred_cls], feed_dict=feed_dict)\n",
    "    \n",
    "    saver.save(sess, 'save/nn.ckpt')"
   ]
  },
  {
   "cell_type": "code",
   "execution_count": 21,
   "metadata": {},
   "outputs": [
    {
     "data": {
      "image/png": "[encoded data removed]",
      "text/plain": [
       "<Figure size 432x288 with 2 Axes>"
      ]
     },
     "metadata": {
      "needs_background": "light"
     },
     "output_type": "display_data"
    }
   ],
   "source": [
    "%matplotlib inline\n",
    "import matplotlib.pyplot as plt\n",
    "fig, (ax1, ax2) = plt.subplots(1, 2)\n",
    "ax1.plot(loss_trace)\n",
    "ax2.plot(accuracy_trace)\n",
    "ax1.set_title('loss')\n",
    "ax2.set_title('accuracy')\n",
    "ax1.set_xlabel('grad_step')\n",
    "ax2.set_xlabel('grad_step')\n",
    "plt.tight_layout()\n",
    "plt.show()"
   ]
  },
  {
   "cell_type": "code",
   "execution_count": 22,
   "metadata": {},
   "outputs": [
    {
     "name": "stdout",
     "output_type": "stream",
     "text": [
      "Test Accuracy : 0.7960819\n"
     ]
    }
   ],
   "source": [
    "print('Test Accuracy :', accuracy_run)"
   ]
  },
  {
   "cell_type": "markdown",
   "metadata": {},
   "source": [
    "## keras code"
   ]
  },
  {
   "cell_type": "code",
   "execution_count": 23,
   "metadata": {},
   "outputs": [],
   "source": [
    "x_val = x_train[:1000]\n",
    "partial_x_train = x_train[1000:]\n",
    "\n",
    "y_val = y_train[:1000]\n",
    "partial_y_train = y_train[1000:]"
   ]
  },
  {
   "cell_type": "code",
   "execution_count": 26,
   "metadata": {},
   "outputs": [],
   "source": [
    "tf.reset_default_graph()\n",
    "tf.set_random_seed(0)\n",
    "np.random.seed(0)"
   ]
  },
  {
   "cell_type": "code",
   "execution_count": 27,
   "metadata": {},
   "outputs": [],
   "source": [
    "from keras import models\n",
    "from keras import layers\n",
    "model = models.Sequential()\n",
    "model.add(layers.Dense(64, activation='relu', input_shape=(10000,)))\n",
    "model.add(layers.Dense(64, activation='relu'))\n",
    "model.add(layers.Dense(46, activation='softmax'))\n",
    "\n",
    "model.compile(optimizer='rmsprop',\n",
    "              loss='categorical_crossentropy',\n",
    "              metrics=['accuracy'])"
   ]
  },
  {
   "cell_type": "code",
   "execution_count": 28,
   "metadata": {},
   "outputs": [
    {
     "name": "stdout",
     "output_type": "stream",
     "text": [
      "WARNING:tensorflow:From C:\\Users\\sarah\\Anaconda3\\lib\\site-packages\\keras\\backend\\tensorflow_backend.py:422: The name tf.global_variables is deprecated. Please use tf.compat.v1.global_variables instead.\n",
      "\n",
      "Train on 7982 samples, validate on 1000 samples\n",
      "Epoch 1/20\n",
      "7982/7982 [==============================] - 1s 175us/step - loss: 2.6758 - accuracy: 0.5303 - val_loss: 1.7202 - val_accuracy: 0.6420\n",
      "Epoch 2/20\n",
      "7982/7982 [==============================] - 1s 132us/step - loss: 1.4102 - accuracy: 0.7116 - val_loss: 1.2942 - val_accuracy: 0.7220\n",
      "Epoch 3/20\n",
      "7982/7982 [==============================] - 1s 163us/step - loss: 1.0431 - accuracy: 0.7835 - val_loss: 1.1339 - val_accuracy: 0.7560\n",
      "Epoch 4/20\n",
      "7982/7982 [==============================] - 1s 139us/step - loss: 0.8186 - accuracy: 0.8330 - val_loss: 1.0357 - val_accuracy: 0.7970\n",
      "Epoch 5/20\n",
      "7982/7982 [==============================] - 1s 123us/step - loss: 0.6563 - accuracy: 0.8654 - val_loss: 0.9863 - val_accuracy: 0.7860\n",
      "Epoch 6/20\n",
      "7982/7982 [==============================] - 1s 126us/step - loss: 0.5263 - accuracy: 0.8905 - val_loss: 0.9716 - val_accuracy: 0.7800\n",
      "Epoch 7/20\n",
      "7982/7982 [==============================] - 1s 123us/step - loss: 0.4248 - accuracy: 0.9100 - val_loss: 0.9026 - val_accuracy: 0.8150\n",
      "Epoch 8/20\n",
      "7982/7982 [==============================] - ETA: 0s - loss: 0.3512 - accuracy: 0.92 - 1s 130us/step - loss: 0.3503 - accuracy: 0.9260 - val_loss: 1.0043 - val_accuracy: 0.7950\n",
      "Epoch 9/20\n",
      "7982/7982 [==============================] - 1s 118us/step - loss: 0.2944 - accuracy: 0.9359 - val_loss: 0.8869 - val_accuracy: 0.8210\n",
      "Epoch 10/20\n",
      "7982/7982 [==============================] - 1s 126us/step - loss: 0.2461 - accuracy: 0.9444 - val_loss: 0.9210 - val_accuracy: 0.8190\n",
      "Epoch 11/20\n",
      "7982/7982 [==============================] - 1s 130us/step - loss: 0.2109 - accuracy: 0.9486 - val_loss: 0.9512 - val_accuracy: 0.8110\n",
      "Epoch 12/20\n",
      "7982/7982 [==============================] - 1s 122us/step - loss: 0.1849 - accuracy: 0.9509 - val_loss: 0.9333 - val_accuracy: 0.8280\n",
      "Epoch 13/20\n",
      "7982/7982 [==============================] - 1s 146us/step - loss: 0.1738 - accuracy: 0.9526 - val_loss: 1.0355 - val_accuracy: 0.7910\n",
      "Epoch 14/20\n",
      "7982/7982 [==============================] - 1s 147us/step - loss: 0.1565 - accuracy: 0.9546 - val_loss: 0.9934 - val_accuracy: 0.8060\n",
      "Epoch 15/20\n",
      "7982/7982 [==============================] - 1s 147us/step - loss: 0.1415 - accuracy: 0.9541 - val_loss: 1.0123 - val_accuracy: 0.8120\n",
      "Epoch 16/20\n",
      "7982/7982 [==============================] - 1s 145us/step - loss: 0.1328 - accuracy: 0.9559 - val_loss: 1.0083 - val_accuracy: 0.8110\n",
      "Epoch 17/20\n",
      "7982/7982 [==============================] - 1s 144us/step - loss: 0.1288 - accuracy: 0.9558 - val_loss: 1.0820 - val_accuracy: 0.8020\n",
      "Epoch 18/20\n",
      "7982/7982 [==============================] - 1s 147us/step - loss: 0.1201 - accuracy: 0.9563 - val_loss: 1.1650 - val_accuracy: 0.7850\n",
      "Epoch 19/20\n",
      "7982/7982 [==============================] - 1s 142us/step - loss: 0.1174 - accuracy: 0.9587 - val_loss: 1.1009 - val_accuracy: 0.7910\n",
      "Epoch 20/20\n",
      "7982/7982 [==============================] - 1s 144us/step - loss: 0.1160 - accuracy: 0.9565 - val_loss: 1.1169 - val_accuracy: 0.7990\n"
     ]
    },
    {
     "data": {
      "image/png": "[encoded data removed]",
      "text/plain": [
       "<Figure size 432x288 with 1 Axes>"
      ]
     },
     "metadata": {
      "needs_background": "light"
     },
     "output_type": "display_data"
    },
    {
     "data": {
      "image/png": "[encoded data removed]",
      "text/plain": [
       "<Figure size 432x288 with 1 Axes>"
      ]
     },
     "metadata": {
      "needs_background": "light"
     },
     "output_type": "display_data"
    }
   ],
   "source": [
    "history = model.fit(partial_x_train,\n",
    "                    partial_y_train,\n",
    "                    epochs=20,\n",
    "                    batch_size=512,\n",
    "                    validation_data=(x_val, y_val))\n",
    "\n",
    "%matplotlib inline\n",
    "import matplotlib.pyplot as plt\n",
    "\n",
    "acc = history.history['accuracy']\n",
    "val_acc = history.history['val_accuracy']\n",
    "loss = history.history['loss']\n",
    "val_loss = history.history['val_loss']\n",
    "\n",
    "epochs = range(1, len(acc) + 1)\n",
    "plt.plot(epochs, loss, 'bo', label='Training loss')\n",
    "plt.plot(epochs, val_loss, 'b', label='Validation loss')\n",
    "plt.title('Training and validation loss')\n",
    "plt.xlabel('Epochs')\n",
    "plt.ylabel('Loss')\n",
    "plt.legend()\n",
    "\n",
    "plt.show()\n",
    "\n",
    "plt.clf()   # clear figure\n",
    "acc_values = history.history['accuracy']\n",
    "val_acc_values = history.history['val_accuracy']\n",
    "\n",
    "plt.plot(epochs, acc, 'bo', label='Training acc')\n",
    "plt.plot(epochs, val_acc, 'b', label='Validation acc')\n",
    "plt.title('Training and validation accuracy')\n",
    "plt.xlabel('Epochs')\n",
    "plt.ylabel('Loss')\n",
    "plt.legend()\n",
    "\n",
    "plt.show()"
   ]
  },
  {
   "cell_type": "code",
   "execution_count": 29,
   "metadata": {},
   "outputs": [
    {
     "name": "stdout",
     "output_type": "stream",
     "text": [
      "2246/2246 [==============================] - 0s 185us/step\n",
      "[1.2555133411105148, 0.7831701040267944]\n"
     ]
    }
   ],
   "source": [
    "results = model.evaluate(x_test, y_test)\n",
    "print(results)"
   ]
  },
  {
   "cell_type": "code",
   "execution_count": 30,
   "metadata": {},
   "outputs": [
    {
     "data": {
      "text/plain": [
       "array([[1.8215474e-05, 1.5119128e-05, 5.8332614e-07, ..., 5.3792047e-07,\n",
       "        3.9588869e-07, 2.1432360e-08],\n",
       "       [3.2197134e-04, 8.2894890e-03, 1.6050844e-05, ..., 9.8438313e-10,\n",
       "        1.8186946e-09, 2.4153053e-09],\n",
       "       [1.0993289e-03, 9.7944105e-01, 2.4316695e-03, ..., 1.1198513e-06,\n",
       "        4.2236475e-06, 1.3975518e-04],\n",
       "       ...,\n",
       "       [1.2019016e-06, 5.0587951e-06, 9.3454690e-07, ..., 5.9509759e-08,\n",
       "        4.5447052e-08, 4.6836249e-08],\n",
       "       [2.1075420e-03, 2.5100109e-01, 1.2006557e-03, ..., 4.7779671e-04,\n",
       "        4.0582908e-04, 5.2556436e-05],\n",
       "       [9.0819900e-05, 9.8375779e-01, 1.1312205e-03, ..., 5.7833557e-07,\n",
       "        1.2069136e-06, 1.6650380e-05]], dtype=float32)"
      ]
     },
     "execution_count": 30,
     "metadata": {},
     "output_type": "execute_result"
    }
   ],
   "source": [
    "model.predict(x_test)"
   ]
  },
  {
   "cell_type": "markdown",
   "metadata": {},
   "source": [
    "## Mix"
   ]
  },
  {
   "cell_type": "code",
   "execution_count": 31,
   "metadata": {},
   "outputs": [],
   "source": [
    "tf.reset_default_graph()\n",
    "tf.set_random_seed(0)\n",
    "np.random.seed(0)"
   ]
  },
  {
   "cell_type": "code",
   "execution_count": 32,
   "metadata": {},
   "outputs": [],
   "source": [
    "from keras import models\n",
    "from keras import layers\n",
    "model = models.Sequential()\n",
    "model.add(layers.Dense(64, activation='relu', input_shape=(10000,)))\n",
    "model.add(layers.Dense(64, activation='relu'))\n",
    "model.add(layers.Dense(46, activation=None))\n",
    "\n",
    "x = model.input\n",
    "y = tf.placeholder(tf.int32, (None, 46)) \n",
    "y_cls = tf.placeholder(tf.int32, (None,)) \n",
    " \n",
    "logits = model.output\n",
    "y_pred_cls = tf.cast(tf.argmax(logits, axis=1), tf.int32, name='y_pred_cls') \n",
    "\n",
    "entropy = tf.nn.softmax_cross_entropy_with_logits_v2(labels=y, logits=logits) \n",
    "loss = tf.reduce_mean(entropy) \n",
    "train = tf.train.RMSPropOptimizer(lr).minimize(loss)\n",
    "\n",
    "correct = tf.nn.in_top_k(logits, y_cls, 1)\n",
    "accuracy = tf.reduce_mean(tf.cast(correct, tf.float32))\n",
    "\n",
    "init = tf.global_variables_initializer()\n",
    "saver = tf.train.Saver()"
   ]
  },
  {
   "cell_type": "markdown",
   "metadata": {},
   "source": [
    "이하는 basic code와 같음...\n",
    "\n",
    "accuracy도 basic code랑 같은 듯"
   ]
  },
  {
   "cell_type": "markdown",
   "metadata": {},
   "source": [
    "# House price"
   ]
  },
  {
   "cell_type": "code",
   "execution_count": 18,
   "metadata": {},
   "outputs": [],
   "source": [
    "import numpy as np\n",
    "\n",
    "x_train = np.array([848, 960, 1563, 910, 1440, 1944, 904, 936, 912]).reshape((-1,1)).astype(np.float32)\n",
    "y_train = np.array([272, 313, 342, 325, 291, 351, 294, 367, 279]).reshape((-1,1)).astype(np.float32)\n",
    "mu = x_train.mean()\n",
    "sigma = x_train.std()\n",
    "x_train = (x_train - x_train.mean()) / x_train.std()\n",
    "\n",
    "x_test = np.array([1650]).reshape((-1,1)).astype(np.float32)\n",
    "y_test = np.array([335]).reshape((-1,1)).astype(np.float32)\n",
    "x_test = (x_test - mu) / sigma"
   ]
  },
  {
   "cell_type": "code",
   "execution_count": 19,
   "metadata": {
    "scrolled": true
   },
   "outputs": [
    {
     "name": "stdout",
     "output_type": "stream",
     "text": [
      "(9, 1) (9, 1) (1, 1) (1, 1)\n"
     ]
    }
   ],
   "source": [
    "print(x_train.shape, y_train.shape, x_test.shape, y_test.shape)"
   ]
  },
  {
   "cell_type": "code",
   "execution_count": 20,
   "metadata": {},
   "outputs": [],
   "source": [
    "lr = 5e-3\n",
    "epoch = int(1e5)"
   ]
  },
  {
   "cell_type": "code",
   "execution_count": 21,
   "metadata": {},
   "outputs": [],
   "source": [
    "import tensorflow as tf\n",
    "tf.reset_default_graph()\n",
    "\n",
    "x = tf.placeholder(tf.float32, (None, 1))\n",
    "y = tf.placeholder(tf.float32, (None, 1))\n",
    "\n",
    "init_b = tf.keras.initializers.constant(0.0)\n",
    "init_w = tf.keras.initializers.VarianceScaling(mode='fan_avg')\n",
    "\n",
    "b = tf.get_variable('b', (1,), tf.float32, init_b)\n",
    "w = tf.get_variable('w', (1,1), tf.float32, init_w)\n",
    "\n",
    "y_pred = x @ w + b\n",
    "error = y - y_pred\n",
    "loss = tf.nn.l2_loss(error)\n",
    "train = tf.train.RMSPropOptimizer(lr).minimize(loss)\n",
    "\n",
    "init = tf.global_variables_initializer()\n",
    "saver = tf.train.Saver()"
   ]
  },
  {
   "cell_type": "code",
   "execution_count": 23,
   "metadata": {},
   "outputs": [
    {
     "data": {
      "image/png": "[encoded data removed]",
      "text/plain": [
       "<Figure size 432x288 with 1 Axes>"
      ]
     },
     "metadata": {
      "needs_background": "light"
     },
     "output_type": "display_data"
    },
    {
     "data": {
      "image/png": "[encoded data removed]",
      "text/plain": [
       "<Figure size 432x288 with 1 Axes>"
      ]
     },
     "metadata": {
      "needs_background": "light"
     },
     "output_type": "display_data"
    }
   ],
   "source": [
    "%matplotlib inline\n",
    "import matplotlib.pyplot as plt\n",
    "\n",
    "with tf.Session() as sess :\n",
    "    sess.run(init)\n",
    "    \n",
    "    loss_trace = []\n",
    "    for i in range(epoch) :\n",
    "        feed_dict = {x:x_train, y:y_train}\n",
    "        if i % 100 == 99 :            \n",
    "            _, loss_run = sess.run([train, loss], feed_dict=feed_dict)\n",
    "            loss_trace.append(loss_run)\n",
    "        else :\n",
    "            sess.run(train, feed_dict=feed_dict)\n",
    "\n",
    "    feed_dict = {x:x_train}\n",
    "    y_train_pred = sess.run(y_pred, feed_dict=feed_dict)\n",
    "\n",
    "    feed_dict = {x:x_test}\n",
    "    y_test_pred_final = sess.run(y_pred, feed_dict = feed_dict)\n",
    "\n",
    "plt.plot(loss_trace)\n",
    "plt.show()\n",
    "\n",
    "plt.plot(x_train, y_train, 'ob')\n",
    "plt.plot(x_train, y_train_pred, '-b')\n",
    "plt.plot(x_test[0,0], y_test[0,0], '*r')\n",
    "plt.plot(x_test, y_test, '*b')\n",
    "plt.show()\n"
   ]
  },
  {
   "cell_type": "markdown",
   "metadata": {},
   "source": [
    "## Learning Rate"
   ]
  },
  {
   "cell_type": "code",
   "execution_count": 24,
   "metadata": {},
   "outputs": [],
   "source": [
    "import numpy as np\n",
    "import matplotlib.pyplot as plt\n",
    "\n",
    "\n",
    "def f(x):\n",
    "    return x ** 2\n",
    "\n",
    "\n",
    "def gradient(x):\n",
    "    return 2 * x\n",
    "\n",
    "\n",
    "def grdient_descent(x0=1, lr=0.1, epoch=10):\n",
    "    history_x = [x0]\n",
    "    history_y = [f(x0)]\n",
    "    for i in range(epoch):\n",
    "        x0 -= lr * gradient(x0)\n",
    "        history_x.append(x0)\n",
    "        history_y.append(f(x0))\n",
    "    return history_x, history_y"
   ]
  },
  {
   "cell_type": "code",
   "execution_count": 25,
   "metadata": {},
   "outputs": [
    {
     "data": {
      "image/png": "[encoded data removed]",
      "text/plain": [
       "<Figure size 432x288 with 1 Axes>"
      ]
     },
     "metadata": {
      "needs_background": "light"
     },
     "output_type": "display_data"
    }
   ],
   "source": [
    "def plot_grdient_descent(history_x, history_y):\n",
    "    x_max = np.max(np.abs(history_x))\n",
    "    x_plot = np.linspace(-x_max, x_max)  \n",
    "    y_plot = f(x_plot)\n",
    "    plt.plot(x_plot, y_plot, '--b')\n",
    "    plt.plot(history_x, history_y, 'o-b')\n",
    "    plt.plot(history_x[0], history_y[0], 'o-r')\n",
    "    plt.show()\n",
    "\n",
    "\n",
    "if __name__ == '__main__':\n",
    "    x0 = 1\n",
    "    lr = 0.2\n",
    "    epoch = 10\n",
    "\n",
    "    history_x, history_y = grdient_descent(x0=x0, lr=lr, epoch=epoch)\n",
    "    plot_grdient_descent(history_x, history_y)"
   ]
  },
  {
   "cell_type": "code",
   "execution_count": 26,
   "metadata": {},
   "outputs": [
    {
     "data": {
      "image/png": "[encoded data removed]",
      "text/plain": [
       "<Figure size 432x288 with 1 Axes>"
      ]
     },
     "metadata": {
      "needs_background": "light"
     },
     "output_type": "display_data"
    }
   ],
   "source": [
    "def plot_grdient_descent(history_x, history_y):\n",
    "    x_max = np.max(np.abs(history_x))\n",
    "    x_plot = np.linspace(-x_max, x_max)  \n",
    "    y_plot = f(x_plot)\n",
    "    plt.plot(x_plot, y_plot, '--b')\n",
    "    plt.plot(history_x, history_y, 'o-b')\n",
    "    plt.plot(history_x[0], history_y[0], 'o-r')\n",
    "    plt.show()\n",
    "\n",
    "\n",
    "if __name__ == '__main__':\n",
    "    x0 = 1\n",
    "    lr = 1\n",
    "    epoch = 10\n",
    "\n",
    "    history_x, history_y = grdient_descent(x0=x0, lr=lr, epoch=epoch)\n",
    "    plot_grdient_descent(history_x, history_y)"
   ]
  },
  {
   "cell_type": "code",
   "execution_count": 27,
   "metadata": {},
   "outputs": [
    {
     "data": {
      "image/png": "[encoded data removed]",
      "text/plain": [
       "<Figure size 432x288 with 1 Axes>"
      ]
     },
     "metadata": {
      "needs_background": "light"
     },
     "output_type": "display_data"
    }
   ],
   "source": [
    "def plot_grdient_descent(history_x, history_y):\n",
    "    x_max = np.max(np.abs(history_x))\n",
    "    x_plot = np.linspace(-x_max, x_max)  \n",
    "    y_plot = f(x_plot)\n",
    "    plt.plot(x_plot, y_plot, '--b')\n",
    "    plt.plot(history_x, history_y, 'o-b')\n",
    "    plt.plot(history_x[0], history_y[0], 'o-r')\n",
    "    plt.show()\n",
    "\n",
    "\n",
    "if __name__ == '__main__':\n",
    "    x0 = 1\n",
    "    lr = 1.1\n",
    "    epoch = 10\n",
    "\n",
    "    history_x, history_y = grdient_descent(x0=x0, lr=lr, epoch=epoch)\n",
    "    plot_grdient_descent(history_x, history_y)"
   ]
  },
  {
   "cell_type": "markdown",
   "metadata": {},
   "source": [
    "발산해버렷!"
   ]
  },
  {
   "cell_type": "code",
   "execution_count": 28,
   "metadata": {},
   "outputs": [
    {
     "data": {
      "image/png": "[encoded data removed]",
      "text/plain": [
       "<Figure size 432x288 with 1 Axes>"
      ]
     },
     "metadata": {
      "needs_background": "light"
     },
     "output_type": "display_data"
    }
   ],
   "source": [
    "def plot_grdient_descent(history_x, history_y):\n",
    "    x_max = np.max(np.abs(history_x))\n",
    "    x_plot = np.linspace(-x_max, x_max)  \n",
    "    y_plot = f(x_plot)\n",
    "    plt.plot(x_plot, y_plot, '--b')\n",
    "    plt.plot(history_x, history_y, 'o-b')\n",
    "    plt.plot(history_x[0], history_y[0], 'o-r')\n",
    "    plt.show()\n",
    "\n",
    "\n",
    "if __name__ == '__main__':\n",
    "    x0 = 1\n",
    "    lr = 0.9\n",
    "    epoch = 10\n",
    "\n",
    "    history_x, history_y = grdient_descent(x0=x0, lr=lr, epoch=epoch)\n",
    "    plot_grdient_descent(history_x, history_y)"
   ]
  },
  {
   "cell_type": "markdown",
   "metadata": {},
   "source": [
    "이거도 별로 좋지는 않음..."
   ]
  },
  {
   "cell_type": "code",
   "execution_count": 30,
   "metadata": {},
   "outputs": [
    {
     "data": {
      "image/png": "[encoded data removed]",
      "text/plain": [
       "<Figure size 432x288 with 1 Axes>"
      ]
     },
     "metadata": {
      "needs_background": "light"
     },
     "output_type": "display_data"
    }
   ],
   "source": [
    "def plot_grdient_descent(history_x, history_y):\n",
    "    x_max = np.max(np.abs(history_x))\n",
    "    x_plot = np.linspace(-x_max, x_max)  \n",
    "    y_plot = f(x_plot)\n",
    "    plt.plot(x_plot, y_plot, '--b')\n",
    "    plt.plot(history_x, history_y, 'o-b')\n",
    "    plt.plot(history_x[0], history_y[0], 'o-r')\n",
    "    plt.show()\n",
    "\n",
    "\n",
    "if __name__ == '__main__':\n",
    "    x0 = 1\n",
    "    lr = 0.01\n",
    "    epoch = 10\n",
    "\n",
    "    history_x, history_y = grdient_descent(x0=x0, lr=lr, epoch=epoch)\n",
    "    plot_grdient_descent(history_x, history_y)"
   ]
  },
  {
   "cell_type": "markdown",
   "metadata": {},
   "source": [
    "너무 천천히 내려감"
   ]
  },
  {
   "cell_type": "markdown",
   "metadata": {},
   "source": [
    "## basic code"
   ]
  },
  {
   "cell_type": "code",
   "execution_count": 31,
   "metadata": {},
   "outputs": [],
   "source": [
    "epochs = 400\n",
    "def learning_rate(i):\n",
    "    lr = 1e-1\n",
    "    if i>= 300:\n",
    "        lr = 1e-2\n",
    "    if i>= 350:\n",
    "        lr = 1e-3\n",
    "    return lr"
   ]
  },
  {
   "cell_type": "markdown",
   "metadata": {},
   "source": [
    "learning rate을 이런 식으로 다르게 둘 수도 있다!"
   ]
  },
  {
   "cell_type": "code",
   "execution_count": 32,
   "metadata": {},
   "outputs": [
    {
     "name": "stdout",
     "output_type": "stream",
     "text": [
      "Downloading data from https://storage.googleapis.com/tensorflow/tf-keras-datasets/boston_housing.npz\n",
      "57344/57026 [==============================] - 0s 1us/step\n",
      "(404, 13) (404, 1) (102, 13) (102, 1)\n"
     ]
    }
   ],
   "source": [
    "import tensorflow as tf\n",
    "import numpy as np\n",
    "(x_train, y_train), (x_test, y_test) = tf.keras.datasets.boston_housing.load_data()\n",
    "y_train = y_train.reshape((-1,1))\n",
    "y_test = y_test.reshape((-1,1))\n",
    "print(x_train.shape, y_train.shape, x_test.shape, y_test.shape)"
   ]
  },
  {
   "cell_type": "code",
   "execution_count": 33,
   "metadata": {},
   "outputs": [],
   "source": [
    "mean = x_train.mean(axis=0)\n",
    "std = x_train.std(axis=0)\n",
    "x_train = (x_train - mean) / std\n",
    "x_test = (x_test - mean) / std"
   ]
  },
  {
   "cell_type": "code",
   "execution_count": 34,
   "metadata": {},
   "outputs": [],
   "source": [
    "tf.reset_default_graph()\n",
    "tf.set_random_seed(0)\n",
    "np.random.seed(0)"
   ]
  },
  {
   "cell_type": "code",
   "execution_count": 35,
   "metadata": {},
   "outputs": [],
   "source": [
    "x = tf.placeholder(tf.float32, (None, 13)) \n",
    "y = tf.placeholder(tf.float32, (None, 1))\n",
    "lr = tf.placeholder(tf.float32, ())\n",
    "\n",
    "init_b = tf.keras.initializers.constant(0.0)\n",
    "init_w = tf.keras.initializers.VarianceScaling(mode='fan_avg')\n",
    "\n",
    "b1 = tf.get_variable('b1', (1,), tf.float32, init_b)\n",
    "w1 = tf.get_variable('w1', (13, 1), tf.float32, init_w)\n",
    "\n",
    "y_pred = x @ w1 + b1\n",
    "loss = tf.nn.l2_loss(y-y_pred) \n",
    "train = tf.train.RMSPropOptimizer(lr).minimize(loss)\n",
    "\n",
    "init = tf.global_variables_initializer()\n",
    "saver = tf.train.Saver()"
   ]
  },
  {
   "cell_type": "code",
   "execution_count": 36,
   "metadata": {},
   "outputs": [
    {
     "name": "stdout",
     "output_type": "stream",
     "text": [
      "\n",
      "epoch 0/400 \n",
      "epoch 1/400 \n",
      "epoch 2/400 \n",
      "epoch 3/400 \n",
      "epoch 4/400 \n",
      "epoch 5/400 \n",
      "epoch 6/400 \n",
      "epoch 7/400 \n",
      "epoch 8/400 \n",
      "epoch 9/400 \n",
      "epoch 10/400 \n",
      "epoch 11/400 \n",
      "epoch 12/400 \n",
      "epoch 13/400 \n",
      "epoch 14/400 \n",
      "epoch 15/400 \n",
      "epoch 16/400 \n",
      "epoch 17/400 \n",
      "epoch 18/400 \n",
      "epoch 19/400 \n",
      "epoch 20/400 \n",
      "epoch 21/400 \n",
      "epoch 22/400 \n",
      "epoch 23/400 \n",
      "epoch 24/400 \n",
      "epoch 25/400 \n",
      "epoch 26/400 \n",
      "epoch 27/400 \n",
      "epoch 28/400 \n",
      "epoch 29/400 \n",
      "epoch 30/400 \n",
      "epoch 31/400 \n",
      "epoch 32/400 \n",
      "epoch 33/400 \n",
      "epoch 34/400 \n",
      "epoch 35/400 \n",
      "epoch 36/400 \n",
      "epoch 37/400 \n",
      "epoch 38/400 \n",
      "epoch 39/400 \n",
      "epoch 40/400 \n",
      "epoch 41/400 \n",
      "epoch 42/400 \n",
      "epoch 43/400 \n",
      "epoch 44/400 \n",
      "epoch 45/400 \n",
      "epoch 46/400 \n",
      "epoch 47/400 \n",
      "epoch 48/400 \n",
      "epoch 49/400 \n",
      "epoch 50/400 \n",
      "epoch 51/400 \n",
      "epoch 52/400 \n",
      "epoch 53/400 \n",
      "epoch 54/400 \n",
      "epoch 55/400 \n",
      "epoch 56/400 \n",
      "epoch 57/400 \n",
      "epoch 58/400 \n",
      "epoch 59/400 \n",
      "epoch 60/400 \n",
      "epoch 61/400 \n",
      "epoch 62/400 \n",
      "epoch 63/400 \n",
      "epoch 64/400 \n",
      "epoch 65/400 \n",
      "epoch 66/400 \n",
      "epoch 67/400 \n",
      "epoch 68/400 \n",
      "epoch 69/400 \n",
      "epoch 70/400 \n",
      "epoch 71/400 \n",
      "epoch 72/400 \n",
      "epoch 73/400 \n",
      "epoch 74/400 \n",
      "epoch 75/400 \n",
      "epoch 76/400 \n",
      "epoch 77/400 \n",
      "epoch 78/400 \n",
      "epoch 79/400 \n",
      "epoch 80/400 \n",
      "epoch 81/400 \n",
      "epoch 82/400 \n",
      "epoch 83/400 \n",
      "epoch 84/400 \n",
      "epoch 85/400 \n",
      "epoch 86/400 \n",
      "epoch 87/400 \n",
      "epoch 88/400 \n",
      "epoch 89/400 \n",
      "epoch 90/400 \n",
      "epoch 91/400 \n",
      "epoch 92/400 \n",
      "epoch 93/400 \n",
      "epoch 94/400 \n",
      "epoch 95/400 \n",
      "epoch 96/400 \n",
      "epoch 97/400 \n",
      "epoch 98/400 \n",
      "epoch 99/400 \n",
      "epoch 100/400 \n",
      "epoch 101/400 \n",
      "epoch 102/400 \n",
      "epoch 103/400 \n",
      "epoch 104/400 \n",
      "epoch 105/400 \n",
      "epoch 106/400 \n",
      "epoch 107/400 \n",
      "epoch 108/400 \n",
      "epoch 109/400 \n",
      "epoch 110/400 \n",
      "epoch 111/400 \n",
      "epoch 112/400 \n",
      "epoch 113/400 \n",
      "epoch 114/400 \n",
      "epoch 115/400 \n",
      "epoch 116/400 \n",
      "epoch 117/400 \n",
      "epoch 118/400 \n",
      "epoch 119/400 \n",
      "epoch 120/400 \n",
      "epoch 121/400 \n",
      "epoch 122/400 \n",
      "epoch 123/400 \n",
      "epoch 124/400 \n",
      "epoch 125/400 \n",
      "epoch 126/400 \n",
      "epoch 127/400 \n",
      "epoch 128/400 \n",
      "epoch 129/400 \n",
      "epoch 130/400 \n",
      "epoch 131/400 \n",
      "epoch 132/400 \n",
      "epoch 133/400 \n",
      "epoch 134/400 \n",
      "epoch 135/400 \n",
      "epoch 136/400 \n",
      "epoch 137/400 \n",
      "epoch 138/400 \n",
      "epoch 139/400 \n",
      "epoch 140/400 \n",
      "epoch 141/400 \n",
      "epoch 142/400 \n",
      "epoch 143/400 \n",
      "epoch 144/400 \n",
      "epoch 145/400 \n",
      "epoch 146/400 \n",
      "epoch 147/400 \n",
      "epoch 148/400 \n",
      "epoch 149/400 \n",
      "epoch 150/400 \n",
      "epoch 151/400 \n",
      "epoch 152/400 \n",
      "epoch 153/400 \n",
      "epoch 154/400 \n",
      "epoch 155/400 \n",
      "epoch 156/400 \n",
      "epoch 157/400 \n",
      "epoch 158/400 \n",
      "epoch 159/400 \n",
      "epoch 160/400 \n",
      "epoch 161/400 \n",
      "epoch 162/400 \n",
      "epoch 163/400 \n",
      "epoch 164/400 \n",
      "epoch 165/400 \n",
      "epoch 166/400 \n",
      "epoch 167/400 \n",
      "epoch 168/400 \n",
      "epoch 169/400 \n",
      "epoch 170/400 \n",
      "epoch 171/400 \n",
      "epoch 172/400 \n",
      "epoch 173/400 \n",
      "epoch 174/400 \n",
      "epoch 175/400 \n",
      "epoch 176/400 \n",
      "epoch 177/400 \n",
      "epoch 178/400 \n",
      "epoch 179/400 \n",
      "epoch 180/400 \n",
      "epoch 181/400 \n",
      "epoch 182/400 \n",
      "epoch 183/400 \n",
      "epoch 184/400 \n",
      "epoch 185/400 \n",
      "epoch 186/400 \n",
      "epoch 187/400 \n",
      "epoch 188/400 \n",
      "epoch 189/400 \n",
      "epoch 190/400 \n",
      "epoch 191/400 \n",
      "epoch 192/400 \n",
      "epoch 193/400 \n",
      "epoch 194/400 \n",
      "epoch 195/400 \n",
      "epoch 196/400 \n",
      "epoch 197/400 \n",
      "epoch 198/400 \n",
      "epoch 199/400 \n",
      "epoch 200/400 \n",
      "epoch 201/400 \n",
      "epoch 202/400 \n",
      "epoch 203/400 \n",
      "epoch 204/400 \n",
      "epoch 205/400 \n",
      "epoch 206/400 \n",
      "epoch 207/400 \n",
      "epoch 208/400 \n",
      "epoch 209/400 \n",
      "epoch 210/400 \n",
      "epoch 211/400 \n",
      "epoch 212/400 \n",
      "epoch 213/400 \n",
      "epoch 214/400 \n",
      "epoch 215/400 \n",
      "epoch 216/400 \n",
      "epoch 217/400 \n",
      "epoch 218/400 \n",
      "epoch 219/400 \n",
      "epoch 220/400 \n",
      "epoch 221/400 \n",
      "epoch 222/400 \n",
      "epoch 223/400 \n",
      "epoch 224/400 \n",
      "epoch 225/400 \n",
      "epoch 226/400 \n",
      "epoch 227/400 \n",
      "epoch 228/400 \n",
      "epoch 229/400 \n",
      "epoch 230/400 \n",
      "epoch 231/400 \n",
      "epoch 232/400 \n",
      "epoch 233/400 \n",
      "epoch 234/400 \n",
      "epoch 235/400 \n",
      "epoch 236/400 \n",
      "epoch 237/400 \n",
      "epoch 238/400 \n",
      "epoch 239/400 \n",
      "epoch 240/400 \n",
      "epoch 241/400 \n",
      "epoch 242/400 \n",
      "epoch 243/400 \n",
      "epoch 244/400 \n",
      "epoch 245/400 \n",
      "epoch 246/400 \n",
      "epoch 247/400 \n",
      "epoch 248/400 \n",
      "epoch 249/400 \n",
      "epoch 250/400 \n",
      "epoch 251/400 \n",
      "epoch 252/400 \n",
      "epoch 253/400 \n",
      "epoch 254/400 \n",
      "epoch 255/400 \n",
      "epoch 256/400 \n",
      "epoch 257/400 \n",
      "epoch 258/400 \n",
      "epoch 259/400 \n",
      "epoch 260/400 \n",
      "epoch 261/400 \n",
      "epoch 262/400 \n",
      "epoch 263/400 \n",
      "epoch 264/400 \n",
      "epoch 265/400 \n",
      "epoch 266/400 \n",
      "epoch 267/400 \n",
      "epoch 268/400 \n",
      "epoch 269/400 \n",
      "epoch 270/400 \n",
      "epoch 271/400 \n",
      "epoch 272/400 \n",
      "epoch 273/400 \n",
      "epoch 274/400 \n",
      "epoch 275/400 \n",
      "epoch 276/400 \n",
      "epoch 277/400 \n",
      "epoch 278/400 \n",
      "epoch 279/400 \n",
      "epoch 280/400 \n",
      "epoch 281/400 \n",
      "epoch 282/400 \n",
      "epoch 283/400 \n",
      "epoch 284/400 \n",
      "epoch 285/400 \n",
      "epoch 286/400 \n",
      "epoch 287/400 \n",
      "epoch 288/400 \n",
      "epoch 289/400 \n",
      "epoch 290/400 \n",
      "epoch 291/400 \n",
      "epoch 292/400 \n",
      "epoch 293/400 \n",
      "epoch 294/400 \n",
      "epoch 295/400 \n",
      "epoch 296/400 \n",
      "epoch 297/400 \n",
      "epoch 298/400 \n",
      "epoch 299/400 \n",
      "epoch 300/400 \n",
      "epoch 301/400 \n",
      "epoch 302/400 \n",
      "epoch 303/400 \n",
      "epoch 304/400 \n",
      "epoch 305/400 \n",
      "epoch 306/400 \n",
      "epoch 307/400 \n",
      "epoch 308/400 \n",
      "epoch 309/400 \n",
      "epoch 310/400 \n",
      "epoch 311/400 \n",
      "epoch 312/400 \n",
      "epoch 313/400 \n",
      "epoch 314/400 \n",
      "epoch 315/400 \n",
      "epoch 316/400 \n",
      "epoch 317/400 \n",
      "epoch 318/400 \n",
      "epoch 319/400 \n",
      "epoch 320/400 \n",
      "epoch 321/400 \n",
      "epoch 322/400 \n",
      "epoch 323/400 \n",
      "epoch 324/400 \n",
      "epoch 325/400 \n",
      "epoch 326/400 \n",
      "epoch 327/400 \n",
      "epoch 328/400 \n",
      "epoch 329/400 \n",
      "epoch 330/400 \n",
      "epoch 331/400 \n",
      "epoch 332/400 \n",
      "epoch 333/400 \n",
      "epoch 334/400 \n",
      "epoch 335/400 \n",
      "epoch 336/400 \n",
      "epoch 337/400 \n",
      "epoch 338/400 \n",
      "epoch 339/400 \n",
      "epoch 340/400 \n",
      "epoch 341/400 \n",
      "epoch 342/400 \n",
      "epoch 343/400 \n",
      "epoch 344/400 \n",
      "epoch 345/400 \n",
      "epoch 346/400 \n",
      "epoch 347/400 \n",
      "epoch 348/400 \n",
      "epoch 349/400 \n",
      "epoch 350/400 \n",
      "epoch 351/400 \n",
      "epoch 352/400 \n",
      "epoch 353/400 \n",
      "epoch 354/400 \n",
      "epoch 355/400 \n",
      "epoch 356/400 \n",
      "epoch 357/400 \n",
      "epoch 358/400 \n",
      "epoch 359/400 \n",
      "epoch 360/400 \n",
      "epoch 361/400 \n",
      "epoch 362/400 \n",
      "epoch 363/400 \n",
      "epoch 364/400 \n",
      "epoch 365/400 \n",
      "epoch 366/400 \n",
      "epoch 367/400 \n",
      "epoch 368/400 \n",
      "epoch 369/400 \n",
      "epoch 370/400 \n",
      "epoch 371/400 \n",
      "epoch 372/400 \n",
      "epoch 373/400 \n",
      "epoch 374/400 \n",
      "epoch 375/400 \n",
      "epoch 376/400 \n",
      "epoch 377/400 \n",
      "epoch 378/400 \n",
      "epoch 379/400 \n",
      "epoch 380/400 \n",
      "epoch 381/400 \n",
      "epoch 382/400 \n",
      "epoch 383/400 \n",
      "epoch 384/400 \n",
      "epoch 385/400 \n",
      "epoch 386/400 \n",
      "epoch 387/400 \n",
      "epoch 388/400 \n",
      "epoch 389/400 \n",
      "epoch 390/400 \n",
      "epoch 391/400 \n",
      "epoch 392/400 \n",
      "epoch 393/400 \n",
      "epoch 394/400 \n",
      "epoch 395/400 \n",
      "epoch 396/400 \n",
      "epoch 397/400 \n",
      "epoch 398/400 \n",
      "epoch 399/400 "
     ]
    }
   ],
   "source": [
    "with tf.Session() as sess:\n",
    "    init.run()\n",
    "    #saver.restore(sess, 'save/nn.ckpt')\n",
    "    \n",
    "    loss_trace = []\n",
    "\n",
    "    for i in range(epochs):\n",
    "        print()\n",
    "        print('epoch {}/{}'.format(i, epochs), end=' ')\n",
    "        feed_dict = {x: x_train, y: y_train, lr: learning_rate(i)}\n",
    "        loss_run, _ = sess.run([loss, train], feed_dict=feed_dict)\n",
    "        loss_trace.append(loss_run)\n",
    "\n",
    "    feed_dict = {x: x_test, y: y_test}\n",
    "    loss_test_run = sess.run(loss, feed_dict=feed_dict)\n",
    "    \n",
    "    saver.save(sess, 'save/nn.ckpt')"
   ]
  },
  {
   "cell_type": "code",
   "execution_count": 37,
   "metadata": {},
   "outputs": [
    {
     "data": {
      "image/png": "[encoded data removed]",
      "text/plain": [
       "<Figure size 432x288 with 1 Axes>"
      ]
     },
     "metadata": {
      "needs_background": "light"
     },
     "output_type": "display_data"
    }
   ],
   "source": [
    "%matplotlib inline\n",
    "import matplotlib.pyplot as plt\n",
    "fig, ax = plt.subplots()\n",
    "ax.plot(np.array(loss_trace[300:])/404)\n",
    "ax.set_title('loss')\n",
    "ax.set_xlabel('grad_step')\n",
    "plt.show()"
   ]
  },
  {
   "cell_type": "code",
   "execution_count": 38,
   "metadata": {},
   "outputs": [
    {
     "name": "stdout",
     "output_type": "stream",
     "text": [
      "Test L2 Loss : 11.597895603553921\n"
     ]
    }
   ],
   "source": [
    "print('Test L2 Loss :', loss_test_run/102)"
   ]
  },
  {
   "cell_type": "markdown",
   "metadata": {},
   "source": [
    "## keras code"
   ]
  },
  {
   "cell_type": "code",
   "execution_count": 39,
   "metadata": {},
   "outputs": [],
   "source": [
    "epochs = 500\n",
    "batch_size = 1\n",
    "lr = 1e-3"
   ]
  },
  {
   "cell_type": "code",
   "execution_count": 40,
   "metadata": {},
   "outputs": [],
   "source": [
    "tf.reset_default_graph()\n",
    "tf.set_random_seed(0)\n",
    "np.random.seed(0)"
   ]
  },
  {
   "cell_type": "code",
   "execution_count": 41,
   "metadata": {},
   "outputs": [],
   "source": [
    "def build_model():\n",
    "    from keras import models\n",
    "    from keras import layers\n",
    "    model = models.Sequential()\n",
    "    model.add(layers.Dense(64, activation='relu', input_shape=(x_train.shape[1],)))\n",
    "    model.add(layers.Dense(64, activation='relu'))\n",
    "    model.add(layers.Dense(1))\n",
    "    model.compile(optimizer='rmsprop', loss='mse', metrics=['mae'])\n",
    "    return model"
   ]
  },
  {
   "cell_type": "code",
   "execution_count": 42,
   "metadata": {},
   "outputs": [
    {
     "name": "stdout",
     "output_type": "stream",
     "text": [
      "processing fold # 0\n"
     ]
    },
    {
     "name": "stderr",
     "output_type": "stream",
     "text": [
      "Using TensorFlow backend.\n"
     ]
    },
    {
     "name": "stdout",
     "output_type": "stream",
     "text": [
      "WARNING:tensorflow:From C:\\Users\\sarah\\Anaconda3\\lib\\site-packages\\keras\\backend\\tensorflow_backend.py:422: The name tf.global_variables is deprecated. Please use tf.compat.v1.global_variables instead.\n",
      "\n",
      "<tensorflow.python.framework.ops.Graph object at 0x000001A38F511B00>\n",
      "processing fold # 1\n",
      "<tensorflow.python.framework.ops.Graph object at 0x000001A38F511B00>\n",
      "processing fold # 2\n",
      "<tensorflow.python.framework.ops.Graph object at 0x000001A38F511B00>\n",
      "processing fold # 3\n",
      "<tensorflow.python.framework.ops.Graph object at 0x000001A38F511B00>\n"
     ]
    }
   ],
   "source": [
    "import numpy as np\n",
    "\n",
    "k = 4\n",
    "num_val_samples = len(x_train) // k\n",
    "mae_histories = []\n",
    "for i in range(k):\n",
    "    print('processing fold #', i)\n",
    "    # Prepare the validation data: data from partition # k\n",
    "    val_data = x_train[i * num_val_samples: (i + 1) * num_val_samples]\n",
    "    val_targets = y_train[i * num_val_samples: (i + 1) * num_val_samples]\n",
    "\n",
    "    # Prepare the training data: data from all other partitions\n",
    "    partial_train_data = np.concatenate(\n",
    "        [x_train[:i * num_val_samples],\n",
    "         x_train[(i + 1) * num_val_samples:]],\n",
    "        axis=0)\n",
    "    partial_train_targets = np.concatenate(\n",
    "        [y_train[:i * num_val_samples],\n",
    "         y_train[(i + 1) * num_val_samples:]],\n",
    "        axis=0)\n",
    "\n",
    "    # Build the Keras model (already compiled)\n",
    "    model = build_model()\n",
    "    history = model.fit(partial_train_data, partial_train_targets,\n",
    "                        validation_data=(val_data, val_targets),\n",
    "                        epochs=epochs, batch_size=batch_size, verbose=0)\n",
    "    mae_history = history.history['val_mae']\n",
    "    mae_histories.append(mae_history)\n",
    "    print(tf.get_default_graph())"
   ]
  },
  {
   "cell_type": "code",
   "execution_count": 43,
   "metadata": {},
   "outputs": [],
   "source": [
    "average_mae_histories = [\n",
    "    np.mean([x[i] for x in mae_histories]) for i in range(epochs)]"
   ]
  },
  {
   "cell_type": "code",
   "execution_count": 44,
   "metadata": {},
   "outputs": [
    {
     "data": {
      "image/png": "[encoded data removed]",
      "text/plain": [
       "<Figure size 432x288 with 1 Axes>"
      ]
     },
     "metadata": {
      "needs_background": "light"
     },
     "output_type": "display_data"
    }
   ],
   "source": [
    "%matplotlib inline\n",
    "import matplotlib.pyplot as plt\n",
    "plt.plot(range(1, len(average_mae_histories) + 1), average_mae_histories)\n",
    "plt.xlabel('Epochs')\n",
    "plt.ylabel('Validation MAE')\n",
    "plt.show()"
   ]
  },
  {
   "cell_type": "code",
   "execution_count": 45,
   "metadata": {},
   "outputs": [
    {
     "data": {
      "image/png": "[encoded data removed]",
      "text/plain": [
       "<Figure size 432x288 with 1 Axes>"
      ]
     },
     "metadata": {
      "needs_background": "light"
     },
     "output_type": "display_data"
    }
   ],
   "source": [
    "def smooth_curve(points, factor=0.9):\n",
    "    smoothed_points = []\n",
    "    for point in points:\n",
    "        if smoothed_points:\n",
    "            previous = smoothed_points[-1]\n",
    "            smoothed_points.append(previous * factor + point * (1 - factor))\n",
    "        else:\n",
    "            smoothed_points.append(point)\n",
    "    return smoothed_points\n",
    "\n",
    "smooth_mae_histories = smooth_curve(average_mae_histories[10:])\n",
    "\n",
    "plt.plot(range(1, len(smooth_mae_histories) + 1), smooth_mae_histories)\n",
    "plt.xlabel('Epochs')\n",
    "plt.ylabel('Validation MAE')\n",
    "plt.show()"
   ]
  },
  {
   "cell_type": "code",
   "execution_count": 46,
   "metadata": {},
   "outputs": [
    {
     "name": "stdout",
     "output_type": "stream",
     "text": [
      "102/102 [==============================] - 0s 313us/step\n"
     ]
    }
   ],
   "source": [
    "model = build_model()\n",
    "model.fit(x_train, y_train,\n",
    "          epochs=80, batch_size=16, verbose=0)\n",
    "test_mse_score, test_mae_score = model.evaluate(x_test, y_test)"
   ]
  },
  {
   "cell_type": "code",
   "execution_count": 47,
   "metadata": {},
   "outputs": [
    {
     "data": {
      "text/plain": [
       "2.832794189453125"
      ]
     },
     "execution_count": 47,
     "metadata": {},
     "output_type": "execute_result"
    }
   ],
   "source": [
    "test_mae_score"
   ]
  },
  {
   "cell_type": "markdown",
   "metadata": {},
   "source": [
    "mix code는 안 짜셨대 ㅎ"
   ]
  },
  {
   "cell_type": "code",
   "execution_count": null,
   "metadata": {},
   "outputs": [],
   "source": []
  }
 ],
 "metadata": {
  "kernelspec": {
   "display_name": "Python 3",
   "language": "python",
   "name": "python3"
  },
  "language_info": {
   "codemirror_mode": {
    "name": "ipython",
    "version": 3
   },
   "file_extension": ".py",
   "mimetype": "text/x-python",
   "name": "python",
   "nbconvert_exporter": "python",
   "pygments_lexer": "ipython3",
   "version": "3.7.3"
  }
 },
 "nbformat": 4,
 "nbformat_minor": 2
}
